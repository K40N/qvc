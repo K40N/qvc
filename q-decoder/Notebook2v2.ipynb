{
 "cells": [
  {
   "cell_type": "code",
   "execution_count": 3,
   "id": "b8fa954f-dab1-47a8-88d8-3bc9c9132eac",
   "metadata": {
    "tags": []
   },
   "outputs": [
    {
     "name": "stdout",
     "output_type": "stream",
     "text": [
      "qiskit-imports, qiskit-runtime-service, misc-imports, and helper-functions have been loaded. \n",
      "all loaded.\n"
     ]
    }
   ],
   "source": [
    "%matplotlib inline\n",
    "%run -i qiskit_prelude.py\n",
    "%run -i box.py\n",
    "import random\n",
    "import pickle as pkl\n",
    "import matplotlib.pyplot as plt\n",
    "import matplotlib.animation as mpl_animation\n",
    "QCirc, QInstr, QReg, CReg = QuantumCircuit, Instruction, QuantumRegister, ClassicalRegister\n",
    "print(\"all loaded.\")"
   ]
  },
  {
   "cell_type": "code",
   "execution_count": 11,
   "id": "a3a00960-cf3d-47d6-9c73-3fd8c144d702",
   "metadata": {
    "tags": []
   },
   "outputs": [],
   "source": [
    "# Set how many bits we are going to use to represent X, Y, and t coordinates\n",
    "bits_x = 4\n",
    "bits_y = 4\n",
    "bits_t = 3\n",
    "\n",
    "# Set how many boxes there are:\n",
    "log2_n_boxes = 4\n",
    "n_boxes = 1 << log2_n_boxes\n",
    "\n",
    "# Set the maximum number of allowed shifts\n",
    "n_allowed_shifts = 4\n",
    "\n",
    "# Convert a positive integer into bits, erroring on overflow\n",
    "def as_bits(n_orig: int, bits: int):\n",
    "    n = n_orig\n",
    "    result = []\n",
    "    for i in range(bits - 1, -1, -1):\n",
    "        power = 1 << i\n",
    "        if n >= power:\n",
    "            n -= power\n",
    "            result.append(True)\n",
    "        else:\n",
    "            result.append(False)\n",
    "    if n != 0:\n",
    "        raise RuntimeError(\"Overflow (or logic error) in as_bits.\")\n",
    "    return result[::-1]\n",
    "\n",
    "assert as_bits(23, 5)[::-1] == [True, False, True, True, True]"
   ]
  },
  {
   "cell_type": "code",
   "execution_count": 12,
   "id": "9678e20c-5bcf-4e59-9479-e082cdade885",
   "metadata": {
    "tags": []
   },
   "outputs": [
    {
     "data": {
      "text/plain": [
       "([Box(xyt_fixed=(0, 3, 5), box_cfg=BoxCfg(var=(4, 2, 0))),\n",
       "  Box(xyt_fixed=(0, 3, 3), box_cfg=BoxCfg(var=(3, 2, 1))),\n",
       "  Box(xyt_fixed=(0, 15, 4), box_cfg=BoxCfg(var=(4, 0, 0))),\n",
       "  Box(xyt_fixed=(0, 5, 5), box_cfg=BoxCfg(var=(3, 1, 0))),\n",
       "  Box(xyt_fixed=(0, 0, 7), box_cfg=BoxCfg(var=(3, 1, 0))),\n",
       "  Box(xyt_fixed=(2, 7, 6), box_cfg=BoxCfg(var=(2, 1, 0))),\n",
       "  Box(xyt_fixed=(2, 15, 7), box_cfg=BoxCfg(var=(2, 0, 0))),\n",
       "  Box(xyt_fixed=(2, 15, 3), box_cfg=BoxCfg(var=(2, 0, 0))),\n",
       "  Box(xyt_fixed=(0, 11, 6), box_cfg=BoxCfg(var=(2, 0, 0))),\n",
       "  Box(xyt_fixed=(6, 7, 6), box_cfg=BoxCfg(var=(1, 1, 0))),\n",
       "  Box(xyt_fixed=(4, 5, 5), box_cfg=BoxCfg(var=(1, 1, 0))),\n",
       "  Box(xyt_fixed=(6, 15, 7), box_cfg=BoxCfg(var=(1, 0, 0))),\n",
       "  Box(xyt_fixed=(4, 14, 7), box_cfg=BoxCfg(var=(1, 0, 0))),\n",
       "  Box(xyt_fixed=(4, 0, 7), box_cfg=BoxCfg(var=(1, 0, 0))),\n",
       "  Box(xyt_fixed=(3, 15, 3), box_cfg=BoxCfg(var=(1, 0, 0))),\n",
       "  Box(xyt_fixed=(1, 10, 6), box_cfg=BoxCfg(var=(1, 0, 0)))],\n",
       " [Box(xyt_fixed=(0, 0, 0), box_cfg=BoxCfg(var=(4, 2, 3))),\n",
       "  Box(xyt_fixed=(0, 3, 1), box_cfg=BoxCfg(var=(4, 2, 2))),\n",
       "  Box(xyt_fixed=(0, 7, 0), box_cfg=BoxCfg(var=(3, 1, 2))),\n",
       "  Box(xyt_fixed=(0, 2, 1), box_cfg=BoxCfg(var=(3, 1, 1))),\n",
       "  Box(xyt_fixed=(0, 4, 1), box_cfg=BoxCfg(var=(3, 0, 2))),\n",
       "  Box(xyt_fixed=(0, 11, 3), box_cfg=BoxCfg(var=(3, 0, 1))),\n",
       "  Box(xyt_fixed=(2, 15, 0), box_cfg=BoxCfg(var=(2, 0, 2))),\n",
       "  Box(xyt_fixed=(0, 13, 3), box_cfg=BoxCfg(var=(3, 0, 0))),\n",
       "  Box(xyt_fixed=(0, 4, 1), box_cfg=BoxCfg(var=(3, 0, 0))),\n",
       "  Box(xyt_fixed=(1, 10, 3), box_cfg=BoxCfg(var=(2, 0, 1))),\n",
       "  Box(xyt_fixed=(3, 15, 3), box_cfg=BoxCfg(var=(2, 0, 0))),\n",
       "  Box(xyt_fixed=(2, 11, 7), box_cfg=BoxCfg(var=(2, 0, 0))),\n",
       "  Box(xyt_fixed=(2, 4, 4), box_cfg=BoxCfg(var=(2, 0, 0))),\n",
       "  Box(xyt_fixed=(2, 4, 3), box_cfg=BoxCfg(var=(2, 0, 0))),\n",
       "  Box(xyt_fixed=(1, 13, 0), box_cfg=BoxCfg(var=(2, 0, 0))),\n",
       "  Box(xyt_fixed=(1, 6, 3), box_cfg=BoxCfg(var=(2, 0, 0)))])"
      ]
     },
     "execution_count": 12,
     "metadata": {},
     "output_type": "execute_result"
    }
   ],
   "source": [
    "CHUNK_NUMBER_FST, CHUNK_NUMBER_SND = 0, 1 # CHANGE THESE TO RENDER DIFFERENT CHUNKS\n",
    "with open(\"encoded.pkl\", \"rb\") as f:\n",
    "    obj = pkl.load(f)\n",
    "    boxes_fst = [ eval(i) for i in obj[CHUNK_NUMBER_FST] ]\n",
    "    boxes_snd = [ eval(i) for i in obj[CHUNK_NUMBER_SND] ]\n",
    "    # look, pickle.load is already unsafe anyway\n",
    "    # if you're gonna have something be eval-able\n",
    "    # you might as well commit and have it eval'd twice\n",
    "boxes_fst, boxes_snd"
   ]
  },
  {
   "cell_type": "code",
   "execution_count": 13,
   "id": "8197c60b-8bdc-42d8-99ec-e806bfa80616",
   "metadata": {
    "tags": []
   },
   "outputs": [],
   "source": [
    "def make_instr_show_depth(qc: QCirc) -> QInstr:\n",
    "    decomposed = qc\n",
    "    for i in range(10):\n",
    "        decomposed = decomposed.decompose()\n",
    "    print(f\"[info] [depth-of] {qc.name} -> {decomposed.depth()}\")\n",
    "    return qc.to_instruction()"
   ]
  },
  {
   "cell_type": "code",
   "execution_count": 22,
   "id": "bef656ba-6bdf-48bb-bd4f-b5db86fbef78",
   "metadata": {
    "tags": []
   },
   "outputs": [],
   "source": [
    "@dataclass(frozen=True)\n",
    "class Shift:\n",
    "    qubit_index_a: int\n",
    "    qubit_index_b: int\n",
    "    amount_pr: float\n",
    "    \n",
    "    def ry_angle(self):\n",
    "        return 2 * asin(sqrt(n_boxes * self.amount_pr))\n",
    "\n",
    "def circ_prepare_box_index(n_shifts: int, shifts: list[Shift], box_volumes: list[int]) -> QCirc:\n",
    "    # Set up our quantum registers\n",
    "    unweighted_binary_index = QReg(log2_n_boxes)\n",
    "    unary_index             = QReg(n_boxes)\n",
    "    index_distribution      = QReg(n_shifts)\n",
    "    index_distribution_help = QReg(n_shifts)\n",
    "    # Create a circuit object\n",
    "    qc = QuantumCircuit(\n",
    "        unweighted_binary_index, unary_index,\n",
    "        index_distribution, index_distribution_help,\n",
    "        name=\"prepare_box_index\",\n",
    "    )\n",
    "    # First, we put the unweighted_binary register into a basic, uniform superposition\n",
    "    qc.h(unweighted_binary_index)\n",
    "    # Then, we convert this into an unary index\n",
    "    qc.append(circ_binary_to_unary(n_boxes, log2_n_boxes), [*unweighted_binary_index, *unary_index])\n",
    "    # Then, we can weight the unary part (not perfectly, but nothing about this is anywhere close to perfect)\n",
    "    qc.append(circ_weight_unary(n_shifts, shifts, box_volumes), [*unary_index, *index_distribution, *index_distribution_help])\n",
    "    return qc\n",
    "\n",
    "def circ_binary_to_unary(n: int, log2_n: int) -> QInstr:\n",
    "    # Set up our quantum registers\n",
    "    binary = QReg(log2_n)\n",
    "    unary  = QReg(n)\n",
    "    # Create a circuit object\n",
    "    qc = QuantumCircuit(binary, unary, name=\"binary_to_unary\")\n",
    "    # First, we appropriately entangle the first two unary digits\n",
    "    qc.cx(binary[0], unary[1])\n",
    "    qc.x(binary[0])\n",
    "    qc.cx(binary[0], unary[0])\n",
    "    # Now, we can use a series of CSWAP gates to move the unary digits around\n",
    "    n_processed = 2\n",
    "    for i in range(1, log2_n):\n",
    "        for j in range(n_processed):\n",
    "            qc.cswap(binary[i], unary[j], unary[j + n_processed])\n",
    "        n_processed *= 2\n",
    "    # Return the circuit as an instruction\n",
    "    return qc.to_instruction()\n",
    "\n",
    "def circ_weight_unary(n_shifts: int, shifts: list[Shift], box_volumes: list[int]) -> QInstr:\n",
    "    # Set up our quantum registers\n",
    "    unary                   = QReg(n_boxes)\n",
    "    index_distribution      = QReg(n_shifts)\n",
    "    index_distribution_help = QReg(n_shifts)\n",
    "    # Create a circuit object\n",
    "    qc = QuantumCircuit(unary, index_distribution, index_distribution_help, name=\"weight_unary\")\n",
    "    # Perform the necessary shifts\n",
    "    for i, shift in enumerate(shifts):\n",
    "        qc.ry(shift.ry_angle(), index_distribution[i])\n",
    "        qc.ccx(unary[shift.qubit_index_b], index_distribution[i], index_distribution_help[i])\n",
    "        qc.cx(index_distribution_help[i], unary[shift.qubit_index_a])\n",
    "        qc.cx(index_distribution_help[i], unary[shift.qubit_index_b])\n",
    "    # Return the circuit as an instruction\n",
    "    return qc.to_instruction()\n",
    "\n",
    "# First, we need to preprocess the boxes, also giving us n_shifts\n",
    "def calculate_shifts(boxes: list[Box]) -> tuple[int, list[Shift]]:\n",
    "    box_volumes = [ box.volume() for box in boxes ]\n",
    "    desired_box_probabilities = [ volume / sum(box_volumes) for volume in box_volumes ]\n",
    "    assert len(boxes) == n_boxes\n",
    "    no_shift_threshold = 0.005\n",
    "    shifts = []\n",
    "    required_mean = 1 / n_boxes\n",
    "    box_indices = list(range(len(boxes)))\n",
    "    remaining_box_indices = box_indices[:]\n",
    "    random.shuffle(box_indices)\n",
    "    for i in box_indices:\n",
    "        if i not in remaining_box_indices:\n",
    "            continue\n",
    "        vol = desired_box_probabilities[i]\n",
    "        best_vol_diff, best_j = float('inf'), None\n",
    "        for j in remaining_box_indices:\n",
    "            if j == i:\n",
    "                continue\n",
    "            j_vol = desired_box_probabilities[j]\n",
    "            vol_mean = (j_vol + vol) / 2\n",
    "            vol_diff = abs(vol_mean - required_mean)\n",
    "            if vol_diff < best_vol_diff:\n",
    "                best_vol_diff = vol_diff\n",
    "                best_j = j\n",
    "        best_vol = desired_box_probabilities[best_j]\n",
    "        if best_vol > vol:\n",
    "            chosen_hi = best_j\n",
    "            chosen_lo = i\n",
    "            shift_amount_p = ((best_vol - required_mean) + (required_mean - vol)) / 2\n",
    "        else:\n",
    "            chosen_hi = i\n",
    "            chosen_lo = best_j\n",
    "            shift_amount_p = ((vol - required_mean) + (required_mean - best_vol)) / 2\n",
    "        assert desired_box_probabilities[chosen_hi] >= desired_box_probabilities[chosen_lo]\n",
    "        assert shift_amount_p >= 0\n",
    "        if shift_amount_p > no_shift_threshold:      # <- Checks if we even need to shift\n",
    "            if abs(n_boxes * shift_amount_p) <= 1.0: # <- Checks if we can shift\n",
    "                shifts.append(Shift(chosen_hi, chosen_lo, shift_amount_p))\n",
    "        remaining_box_indices.pop(remaining_box_indices.index(i))\n",
    "        remaining_box_indices.pop(remaining_box_indices.index(best_j))\n",
    "    print(f\"[info]  ideal n_shifts = {len(shifts)}\")\n",
    "    shifts.sort(key=lambda shift: -shift.amount_pr)\n",
    "    shifts = shifts[:n_allowed_shifts]\n",
    "    n_shifts = len(shifts)\n",
    "    print(f\"[info] actual n_shifts = {n_shifts}\")\n",
    "    return n_shifts, shifts\n",
    "\n",
    "def circ_index_to_start(blist: list[Box]) -> QCirc:\n",
    "    # Quantum registers\n",
    "    unary_index             = QReg(n_boxes     , name=\"unary_index\")\n",
    "    x_reg                   = QReg(bits_x      , name=\"x_reg\")\n",
    "    y_reg                   = QReg(bits_y      , name=\"y_reg\")\n",
    "    t_reg                   = QReg(bits_t      , name=\"t_reg\")\n",
    "    regs = (x_reg, y_reg, t_reg)\n",
    "    # Create circuit object\n",
    "    qc = QuantumCircuit(unary_index, *regs, name=\"index_to_start\")\n",
    "    # Actual operation\n",
    "    for i in range(n_boxes):\n",
    "        for dim in (0, 1, 2):\n",
    "            n_var_bits = blist[i].box_cfg.var[dim]\n",
    "            for j in range(XYT_BITS[dim] - n_var_bits):\n",
    "                if as_bits(blist[i].xyt_fixed[dim], XYT_BITS[dim] - n_var_bits)[j]:\n",
    "                    qc.cx(unary_index[i], regs[dim][j + n_var_bits])\n",
    "    return qc\n",
    "\n",
    "def circ_index_to_offset(blist: list[Box]) -> QCirc:\n",
    "    # Quantum registers\n",
    "    unary_index             = QReg(n_boxes     , name=\"unary_index\")\n",
    "    x_reg                   = QReg(bits_x      , name=\"x_reg\")\n",
    "    y_reg                   = QReg(bits_y      , name=\"y_reg\")\n",
    "    t_reg                   = QReg(bits_t      , name=\"t_reg\")\n",
    "    regs = (x_reg, y_reg, t_reg)\n",
    "    # Create circuit object\n",
    "    qc = QuantumCircuit(unary_index, *regs, name=\"index_to_offset\")\n",
    "    # Actual operation\n",
    "    for i in range(n_boxes):\n",
    "        for dim in (0, 1, 2):\n",
    "            n_var_bits = blist[i].box_cfg.var[dim]\n",
    "            for j in range(n_var_bits):\n",
    "                qc.ch(unary_index[i], regs[dim][j])\n",
    "    return qc\n",
    "\n",
    "# Now, for the overall quantum circuit for a single timeslice\n",
    "def circ_main_once(blist: list[Box], just_prepare_box_index: bool = False) -> QInstr | int:\n",
    "    n_shifts, shifts = calculate_shifts(blist)\n",
    "    # Let's first make all the necessary registers\n",
    "    # First the quantum ones\n",
    "    unweighted_binary_index = QReg(log2_n_boxes, name=\"unweighted_binary_index\")\n",
    "    unary_index             = QReg(n_boxes     , name=\"unary_index\")\n",
    "    index_distribution      = QReg(n_shifts    , name=\"index_distribution\")\n",
    "    index_distribution_help = QReg(n_shifts    , name=\"index_distribution_help\")\n",
    "    x_reg                   = QReg(bits_x      , name=\"x_reg\")\n",
    "    y_reg                   = QReg(bits_y      , name=\"y_reg\")\n",
    "    t_reg                   = QReg(bits_t      , name=\"t_reg\")\n",
    "    # Create a circuit object\n",
    "    if just_prepare_box_index:\n",
    "        qc = QuantumCircuit(\n",
    "            unweighted_binary_index,\n",
    "            unary_index,\n",
    "            index_distribution,\n",
    "            index_distribution_help,\n",
    "            name=\"main_once\",\n",
    "        )\n",
    "    else:\n",
    "        qc = QuantumCircuit(\n",
    "            unweighted_binary_index,\n",
    "            unary_index,\n",
    "            index_distribution,\n",
    "            index_distribution_help,\n",
    "            x_reg, y_reg, t_reg,\n",
    "            name=\"main_once\",\n",
    "        )\n",
    "    # There are three main steps:\n",
    "    # 1. Prepare a weighted superposition of unary box index states\n",
    "    qc.append(make_instr_show_depth(circ_prepare_box_index(n_shifts, shifts, [ box.volume() for box in blist ])), [\n",
    "        *unweighted_binary_index, *unary_index,\n",
    "        *index_distribution, *index_distribution_help,\n",
    "    ])\n",
    "    if just_prepare_box_index:\n",
    "        return n_shifts, qc.to_instruction()\n",
    "    # 2. Transform this into a superposition of possible starting points\n",
    "    qc.append(make_instr_show_depth(circ_index_to_start(blist)), [*unary_index, *x_reg, *y_reg, *t_reg])\n",
    "    # 3. Transform this into a superposition of offsets\n",
    "    qc.append(make_instr_show_depth(circ_index_to_offset(blist)), [*unary_index, *x_reg, *y_reg, *t_reg])\n",
    "    # Return the circuit as an instruction\n",
    "    return n_shifts, qc.to_instruction()\n",
    "\n",
    "def qc_main():\n",
    "    just_prepare_box_index = False\n",
    "    n_shifts_fst, main_once_fst = circ_main_once(boxes_fst, just_prepare_box_index=just_prepare_box_index)\n",
    "    n_shifts_snd, main_once_snd = circ_main_once(boxes_snd, just_prepare_box_index=just_prepare_box_index)\n",
    "    q_fst = QReg(main_once_fst.num_qubits)\n",
    "    q_snd = QReg(main_once_snd.num_qubits)\n",
    "    if just_prepare_box_index:\n",
    "        fst_unary_out = CReg(n_boxes, name=\"fst_unary_out\")\n",
    "        snd_unary_out = CReg(n_boxes, name=\"snd_unary_out\")\n",
    "        qc = QuantumCircuit(\n",
    "            q_fst, q_snd,\n",
    "            fst_unary_out, snd_unary_out,\n",
    "            name=\"main\",\n",
    "        )\n",
    "    else:\n",
    "        fst_x_out                   = CReg(bits_x, name=\"fst_x_out\")\n",
    "        fst_y_out                   = CReg(bits_y, name=\"fst_y_out\")\n",
    "        fst_t_out                   = CReg(bits_t, name=\"fst_t_out\")\n",
    "        snd_x_out                   = CReg(bits_x, name=\"snd_x_out\")\n",
    "        snd_y_out                   = CReg(bits_y, name=\"snd_y_out\")\n",
    "        snd_t_out                   = CReg(bits_t, name=\"snd_t_out\")\n",
    "        qc = QuantumCircuit(\n",
    "            q_fst, q_snd,\n",
    "            fst_x_out, fst_y_out, fst_t_out,\n",
    "            snd_x_out, snd_y_out, snd_t_out,\n",
    "            name=\"main\",\n",
    "        )\n",
    "    qc.append(main_once_fst, q_fst)\n",
    "    qc.append(main_once_snd, q_snd)\n",
    "    if just_prepare_box_index:\n",
    "        qc.measure(q_fst[log2_n_boxes:(log2_n_boxes+n_boxes)], fst_unary_out)\n",
    "        qc.measure(q_snd[log2_n_boxes:(log2_n_boxes+n_boxes)], snd_unary_out)\n",
    "    else:\n",
    "        xyt_offset = log2_n_boxes + n_boxes + n_shifts_fst + n_shifts_fst\n",
    "        cursor = xyt_offset\n",
    "        qc.measure(q_fst[cursor:(cursor := cursor + bits_x)], fst_x_out)\n",
    "        qc.measure(q_fst[cursor:(cursor := cursor + bits_y)], fst_y_out)\n",
    "        qc.measure(q_fst[cursor:(cursor := cursor + bits_t)], fst_t_out)\n",
    "        assert cursor == main_once_fst.num_qubits\n",
    "        xyt_offset = log2_n_boxes + n_boxes + n_shifts_snd + n_shifts_snd\n",
    "        cursor = xyt_offset\n",
    "        qc.measure(q_snd[cursor:(cursor := cursor + bits_x)], snd_x_out)\n",
    "        qc.measure(q_snd[cursor:(cursor := cursor + bits_y)], snd_y_out)\n",
    "        qc.measure(q_snd[cursor:(cursor := cursor + bits_t)], snd_t_out)\n",
    "        assert cursor == main_once_snd.num_qubits\n",
    "    return qc"
   ]
  },
  {
   "cell_type": "code",
   "execution_count": 23,
   "id": "c6d53376-1eeb-41d7-ab90-674f267d06c2",
   "metadata": {
    "tags": []
   },
   "outputs": [
    {
     "name": "stdout",
     "output_type": "stream",
     "text": [
      "[info]  ideal n_shifts = 4\n",
      "[info] actual n_shifts = 4\n",
      "[info] [depth-of] prepare_box_index -> 108\n",
      "[info] [depth-of] index_to_start -> 19\n",
      "[info] [depth-of] index_to_offset -> 112\n",
      "[info]  ideal n_shifts = 2\n",
      "[info] actual n_shifts = 2\n",
      "[info] [depth-of] prepare_box_index -> 99\n",
      "[info] [depth-of] index_to_start -> 14\n",
      "[info] [depth-of] index_to_offset -> 113\n"
     ]
    },
    {
     "data": {
      "text/plain": [
       "74"
      ]
     },
     "execution_count": 23,
     "metadata": {},
     "output_type": "execute_result"
    }
   ],
   "source": [
    "main = qc_main()\n",
    "main.num_qubits"
   ]
  },
  {
   "cell_type": "code",
   "execution_count": 24,
   "id": "a83a60c4-dd83-40fa-b8a6-0d0809b84934",
   "metadata": {
    "tags": []
   },
   "outputs": [
    {
     "data": {
      "text/plain": [
       "200"
      ]
     },
     "execution_count": 24,
     "metadata": {},
     "output_type": "execute_result"
    }
   ],
   "source": [
    "decomposed = main\n",
    "for i in range(10):\n",
    "    decomposed = decomposed.decompose()\n",
    "decomposed.depth()"
   ]
  },
  {
   "cell_type": "code",
   "execution_count": 25,
   "id": "d2ab8f4c-d0c6-473c-b61d-38bf50a08f0e",
   "metadata": {
    "tags": []
   },
   "outputs": [
    {
     "name": "stdout",
     "output_type": "stream",
     "text": [
      "Getting backend object...\n",
      "Transpiling...\n",
      "Transpiled, resulting circuit depth is 1755\n"
     ]
    }
   ],
   "source": [
    "print(\"Getting backend object...\")\n",
    "brisbane = [ i for i in service.backends() if i.name == \"ibm_brisbane\" ][0]\n",
    "print(\"Transpiling...\")\n",
    "transpiled_main = transpile(main, brisbane)\n",
    "print(f\"Transpiled, resulting circuit depth is {transpiled_main.depth()}\")"
   ]
  },
  {
   "cell_type": "code",
   "execution_count": 29,
   "id": "2f45fa61-d104-47a3-a597-6c30daa341e7",
   "metadata": {
    "tags": []
   },
   "outputs": [],
   "source": [
    "#transpiled_main.draw()"
   ]
  },
  {
   "cell_type": "code",
   "execution_count": 26,
   "id": "9056a35c-875f-46bb-a9e3-2b1cf6d08fbe",
   "metadata": {
    "tags": []
   },
   "outputs": [],
   "source": [
    "n_shots = 2048\n",
    "simulation_result = simulate_quantum_circuit(main, shots=n_shots, method=\"matrix_product_state\")"
   ]
  },
  {
   "cell_type": "code",
   "execution_count": 33,
   "id": "d2dc557f-6a8e-4134-84fb-514784d110cb",
   "metadata": {
    "tags": []
   },
   "outputs": [
    {
     "name": "stdin",
     "output_type": "stream",
     "text": [
      "!!!!! Are you sure you want to run it on Brisbane? Type \"long live the land down under\" to confirm: long live the land down under\n"
     ]
    },
    {
     "name": "stdout",
     "output_type": "stream",
     "text": [
      "Starting session...\n",
      "Queueing job...\n",
      "Job ID: cmwtknyapzf0008zv9sg\n",
      "Job Status: job is queued"
     ]
    },
    {
     "ename": "AttributeError",
     "evalue": "'RuntimeJob' object has no attribute 'queue_info'",
     "output_type": "error",
     "traceback": [
      "\u001b[0;31m---------------------------------------------------------------------------\u001b[0m",
      "\u001b[0;31mAttributeError\u001b[0m                            Traceback (most recent call last)",
      "Cell \u001b[0;32mIn[33], line 19\u001b[0m\n\u001b[1;32m     17\u001b[0m \u001b[38;5;28;01melse\u001b[39;00m:\n\u001b[1;32m     18\u001b[0m     \u001b[38;5;28mprint\u001b[39m(\u001b[38;5;124m\"\u001b[39m\u001b[38;5;124mDOING ABSOLUTELY NOTHING\u001b[39m\u001b[38;5;124m\"\u001b[39m)\n\u001b[0;32m---> 19\u001b[0m \u001b[43mjob_monitor\u001b[49m\u001b[43m(\u001b[49m\u001b[43mjob\u001b[49m\u001b[43m)\u001b[49m\n",
      "File \u001b[0;32m/opt/conda/lib/python3.10/site-packages/qiskit_ibm_provider/job/job_monitor.py:116\u001b[0m, in \u001b[0;36mjob_monitor\u001b[0;34m(job, interval, output)\u001b[0m\n\u001b[1;32m    113\u001b[0m \u001b[38;5;28;01melse\u001b[39;00m:\n\u001b[1;32m    114\u001b[0m     _interval_set \u001b[38;5;241m=\u001b[39m \u001b[38;5;28;01mTrue\u001b[39;00m\n\u001b[0;32m--> 116\u001b[0m \u001b[43m_text_checker\u001b[49m\u001b[43m(\u001b[49m\u001b[43mjob\u001b[49m\u001b[43m,\u001b[49m\u001b[43m \u001b[49m\u001b[43minterval\u001b[49m\u001b[43m,\u001b[49m\u001b[43m \u001b[49m\u001b[43m_interval_set\u001b[49m\u001b[43m,\u001b[49m\u001b[43m \u001b[49m\u001b[43moutput\u001b[49m\u001b[38;5;241;43m=\u001b[39;49m\u001b[43moutput\u001b[49m\u001b[43m)\u001b[49m\n",
      "File \u001b[0;32m/opt/conda/lib/python3.10/site-packages/qiskit_ibm_provider/job/job_monitor.py:53\u001b[0m, in \u001b[0;36m_text_checker\u001b[0;34m(job, interval, _interval_set, output)\u001b[0m\n\u001b[1;32m     50\u001b[0m msg \u001b[38;5;241m=\u001b[39m status\u001b[38;5;241m.\u001b[39mvalue\n\u001b[1;32m     52\u001b[0m \u001b[38;5;28;01mif\u001b[39;00m status\u001b[38;5;241m.\u001b[39mname \u001b[38;5;241m==\u001b[39m \u001b[38;5;124m\"\u001b[39m\u001b[38;5;124mQUEUED\u001b[39m\u001b[38;5;124m\"\u001b[39m:\n\u001b[0;32m---> 53\u001b[0m     queue_info \u001b[38;5;241m=\u001b[39m \u001b[43mjob\u001b[49m\u001b[38;5;241;43m.\u001b[39;49m\u001b[43mqueue_info\u001b[49m()\n\u001b[1;32m     55\u001b[0m     \u001b[38;5;28;01mif\u001b[39;00m queue_info:\n\u001b[1;32m     56\u001b[0m         \u001b[38;5;28;01mif\u001b[39;00m queue_info\u001b[38;5;241m.\u001b[39mestimated_start_time:\n",
      "\u001b[0;31mAttributeError\u001b[0m: 'RuntimeJob' object has no attribute 'queue_info'"
     ]
    }
   ],
   "source": [
    "# /!\\ RUNS ON IBM_BRISBANE /!\\\n",
    "# /!\\ NO SERIOUSLY         /!\\\n",
    "# /!\\          BUT LIKE FR /!\\\n",
    "# /!\\ CHECK SIMULATION     /!\\\n",
    "# /!\\    BEFORE RUNNING ME /!\\\n",
    "# /!\\    LIKE FR FR THO    /!\\\n",
    "confirm_text = \"long live the land down under\"\n",
    "userinput = input('!!!!! Are you sure you want to run it on Brisbane? Type \"'+confirm_text+'\" to confirm:')\n",
    "if userinput.strip() == confirm_text:\n",
    "    print(\"Starting session...\")\n",
    "    with Session(backend=brisbane):\n",
    "        sampler = Sampler()\n",
    "        print(\"Queueing job...\")\n",
    "        job = sampler.run(transpiled_main)\n",
    "    from qiskit_ibm_provider.job import job_monitor\n",
    "    print(f\"Job ID: {job.job_id()}\")\n",
    "else:\n",
    "    print(\"DOING ABSOLUTELY NOTHING\")\n",
    "job_monitor(job)"
   ]
  },
  {
   "cell_type": "code",
   "execution_count": 31,
   "id": "5bdded4e-135d-4e0e-98ff-03bdea3ec220",
   "metadata": {
    "tags": []
   },
   "outputs": [
    {
     "data": {
      "text/plain": [
       "\"\\ngood, total = 0, 0\\nfor i in zip(*coords):\\n    if i[2] >= (1 << bits_t):\\n        ok = box_union_contains_point(boxes_snd, (\\n            i[0], i[1], i[2] - (1 << bits_t),\\n        ))\\n    else:\\n        ok = box_union_contains_point(boxes_fst, i)\\n    good += 1 if ok else 0\\n    total += 1\\nprint(f'{(good/total)*100:.3f}% OK')\\n\""
      ]
     },
     "execution_count": 31,
     "metadata": {},
     "output_type": "execute_result"
    }
   ],
   "source": [
    "def binstr2dec(s: str):\n",
    "    # Yes, this is a mind-bogglingy stupid way to do this\n",
    "    # And an unsafe one at that\n",
    "    # Hopelessly inefficient too\n",
    "    # Unfortunately it's 11 P.M. and I don't care\n",
    "    return eval(f'0b{s}')\n",
    "\n",
    "def get_coords_from_result(result_keys: list[str]) -> (list[int], list[int], list[int]):\n",
    "    xs, ys, ts = [], [], []\n",
    "    for key in result_keys:\n",
    "        t_snd, y_snd, x_snd, t_fst, y_fst, x_fst = key.split()\n",
    "        xs.append(binstr2dec(x_fst))\n",
    "        ys.append(binstr2dec(y_fst))\n",
    "        ts.append(binstr2dec(t_fst))\n",
    "        xs.append(binstr2dec(x_snd))\n",
    "        ys.append(binstr2dec(y_snd))\n",
    "        ts.append(binstr2dec(t_snd) + (1 << bits_t))\n",
    "    return xs, ys, ts\n",
    "\n",
    "result = simulation_result\n",
    "proportion_noise_threshold = 0.05\n",
    "coords = get_coords_from_result(result.keys())\n",
    "\"\"\"\n",
    "good, total = 0, 0\n",
    "for i in zip(*coords):\n",
    "    if i[2] >= (1 << bits_t):\n",
    "        ok = box_union_contains_point(boxes_snd, (\n",
    "            i[0], i[1], i[2] - (1 << bits_t),\n",
    "        ))\n",
    "    else:\n",
    "        ok = box_union_contains_point(boxes_fst, i)\n",
    "    good += 1 if ok else 0\n",
    "    total += 1\n",
    "print(f'{(good/total)*100:.3f}% OK')\n",
    "\"\"\""
   ]
  },
  {
   "cell_type": "code",
   "execution_count": 32,
   "id": "2413b816-6cb1-49dc-8436-a62bc3bf1bc4",
   "metadata": {
    "tags": []
   },
   "outputs": [
    {
     "data": {
      "image/png": "[encoded data removed]",
      "text/plain": [
       "<Figure size 640x480 with 1 Axes>"
      ]
     },
     "metadata": {},
     "output_type": "display_data"
    }
   ],
   "source": [
    "xy_by_time  = [ ([], []) for _ in range(2*(1 << bits_t)) ]\n",
    "for x, y, t in zip(*coords):\n",
    "    xy_by_time[t][0].append(x)\n",
    "    xy_by_time[t][1].append(y)\n",
    "fig, ax = plt.subplots()\n",
    "ax.set_xlim(0, 1 << bits_x)\n",
    "ax.set_ylim(0, 1 << bits_y)\n",
    "scatter = ax.scatter(*xy_by_time[0][::-1])\n",
    "def scatter_ani_draw(frame):\n",
    "    arr = np.vstack([\n",
    "        np.array(xy_by_time[frame][1]),\n",
    "        np.array(xy_by_time[frame][0])\n",
    "    ]).T\n",
    "    if arr.size > 0:\n",
    "        scatter.set_offsets(arr)\n",
    "    else:\n",
    "        scatter.set_offsets(np.array([0, 0]))\n",
    "    return (scatter,)\n",
    "scatter_ani = mpl_animation.FuncAnimation(fig, scatter_ani_draw, frames=2*(1 << bits_t), interval=(1000//7), blit=True)\n",
    "scatter_ani.save(\"output.gif\", writer=\"pillow\")"
   ]
  }
 ],
 "metadata": {
  "kernelspec": {
   "display_name": "Python 3 (ipykernel)",
   "language": "python",
   "name": "python3"
  },
  "language_info": {
   "codemirror_mode": {
    "name": "ipython",
    "version": 3
   },
   "file_extension": ".py",
   "mimetype": "text/x-python",
   "name": "python",
   "nbconvert_exporter": "python",
   "pygments_lexer": "ipython3",
   "version": "3.10.8"
  },
  "widgets": {
   "application/vnd.jupyter.widget-state+json": {
    "state": {
     "0d8d5d83106c4be0b49bfc17da81a97c": {
      "model_module": "@jupyter-widgets/controls",
      "model_module_version": "2.0.0",
      "model_name": "HTMLModel",
      "state": {
       "layout": "IPY_MODEL_4711c49d5039427c9972f1e300a93bbf",
       "style": "IPY_MODEL_5fbd1da4eb7d47b8bcf720f549f2bef9",
       "value": "<h5>Status</h5>"
      }
     },
     "1c64c8ec1c8d4a12b24a7ec0f9f289f9": {
      "model_module": "@jupyter-widgets/base",
      "model_module_version": "2.0.0",
      "model_name": "LayoutModel",
      "state": {}
     },
     "1f75e2dc388b4cb2821fe393f474d443": {
      "model_module": "@jupyter-widgets/controls",
      "model_module_version": "2.0.0",
      "model_name": "HTMLModel",
      "state": {
       "layout": "IPY_MODEL_1c64c8ec1c8d4a12b24a7ec0f9f289f9",
       "style": "IPY_MODEL_e5bc663d3d6d4eceb627bfec0d29d901",
       "value": "<h5>Message</h5>"
      }
     },
     "28ede010b9154b7cbd2200549db5e247": {
      "model_module": "@jupyter-widgets/base",
      "model_module_version": "2.0.0",
      "model_name": "LayoutModel",
      "state": {
       "grid_area": "right",
       "padding": "0px 0px 0px 0px",
       "width": "70px"
      }
     },
     "2d169a5a77ca4f6fbdb8ae2bc5be9b5c": {
      "model_module": "@jupyter-widgets/controls",
      "model_module_version": "2.0.0",
      "model_name": "HTMLModel",
      "state": {
       "layout": "IPY_MODEL_436b0a5a86b3492099312a523cf47cd7",
       "style": "IPY_MODEL_dbce2a74081f40f6bfde2fd37e99989d",
       "value": "<h5>Backend</h5>"
      }
     },
     "34d33232bd984ad88836add1526dc757": {
      "model_module": "@jupyter-widgets/base",
      "model_module_version": "2.0.0",
      "model_name": "LayoutModel",
      "state": {
       "grid_template_areas": "\n                                       \". . . . right \"\n                                        ",
       "grid_template_columns": "20% 20% 20% 20% 20%",
       "width": "100%"
      }
     },
     "35d4915b0d88498998a2f0699a5c768c": {
      "model_module": "@jupyter-widgets/controls",
      "model_module_version": "2.0.0",
      "model_name": "ButtonStyleModel",
      "state": {
       "font_family": null,
       "font_size": null,
       "font_style": null,
       "font_variant": null,
       "font_weight": null,
       "text_color": null,
       "text_decoration": null
      }
     },
     "436b0a5a86b3492099312a523cf47cd7": {
      "model_module": "@jupyter-widgets/base",
      "model_module_version": "2.0.0",
      "model_name": "LayoutModel",
      "state": {
       "width": "145px"
      }
     },
     "4711c49d5039427c9972f1e300a93bbf": {
      "model_module": "@jupyter-widgets/base",
      "model_module_version": "2.0.0",
      "model_name": "LayoutModel",
      "state": {
       "width": "95px"
      }
     },
     "5ed8a661643046bf9a748667b06d95fc": {
      "model_module": "@jupyter-widgets/controls",
      "model_module_version": "2.0.0",
      "model_name": "HTMLStyleModel",
      "state": {
       "description_width": "",
       "font_size": null,
       "text_color": null
      }
     },
     "5fbd1da4eb7d47b8bcf720f549f2bef9": {
      "model_module": "@jupyter-widgets/controls",
      "model_module_version": "2.0.0",
      "model_name": "HTMLStyleModel",
      "state": {
       "description_width": "",
       "font_size": null,
       "text_color": null
      }
     },
     "755345db0720437586d11a8d92b5455f": {
      "model_module": "@jupyter-widgets/controls",
      "model_module_version": "2.0.0",
      "model_name": "HBoxModel",
      "state": {
       "children": [
        "IPY_MODEL_7a23de04ac6743bc994e85c7d5f882f0",
        "IPY_MODEL_2d169a5a77ca4f6fbdb8ae2bc5be9b5c",
        "IPY_MODEL_0d8d5d83106c4be0b49bfc17da81a97c",
        "IPY_MODEL_a01890f5a32a4f8591eb65fef1378ae7",
        "IPY_MODEL_1f75e2dc388b4cb2821fe393f474d443"
       ],
       "layout": "IPY_MODEL_ed67369bd5ee4754bdfe374247dd5acb"
      }
     },
     "7a23de04ac6743bc994e85c7d5f882f0": {
      "model_module": "@jupyter-widgets/controls",
      "model_module_version": "2.0.0",
      "model_name": "HTMLModel",
      "state": {
       "layout": "IPY_MODEL_87c037088a6a47fca331322be94d7980",
       "style": "IPY_MODEL_fb7c7c356eeb414ca42d40da40064c88",
       "value": "<h5>Job ID</h5>"
      }
     },
     "87c037088a6a47fca331322be94d7980": {
      "model_module": "@jupyter-widgets/base",
      "model_module_version": "2.0.0",
      "model_name": "LayoutModel",
      "state": {
       "width": "190px"
      }
     },
     "89d2d866ebeb41fc94d3cab805ec716d": {
      "model_module": "@jupyter-widgets/controls",
      "model_module_version": "2.0.0",
      "model_name": "HTMLModel",
      "state": {
       "layout": "IPY_MODEL_e2f771b6c58741a780ebfa14733b6717",
       "style": "IPY_MODEL_5ed8a661643046bf9a748667b06d95fc",
       "value": "<p style='font-family: IBM Plex Sans, Arial, Helvetica, sans-serif; font-size: 20px; font-weight: medium;'>Circuit Properties</p>"
      }
     },
     "8b6427b910d841978559f0efd269c2b4": {
      "model_module": "@jupyter-widgets/controls",
      "model_module_version": "2.0.0",
      "model_name": "HTMLStyleModel",
      "state": {
       "description_width": "",
       "font_size": null,
       "text_color": null
      }
     },
     "a01890f5a32a4f8591eb65fef1378ae7": {
      "model_module": "@jupyter-widgets/controls",
      "model_module_version": "2.0.0",
      "model_name": "HTMLModel",
      "state": {
       "layout": "IPY_MODEL_e35a81121bd945f0a51559e4e538086d",
       "style": "IPY_MODEL_8b6427b910d841978559f0efd269c2b4",
       "value": "<h5>Queue</h5>"
      }
     },
     "c059ac1c9ba4449ba89ba581b0469acc": {
      "model_module": "@jupyter-widgets/controls",
      "model_module_version": "2.0.0",
      "model_name": "ButtonModel",
      "state": {
       "button_style": "primary",
       "description": "Clear",
       "layout": "IPY_MODEL_28ede010b9154b7cbd2200549db5e247",
       "style": "IPY_MODEL_35d4915b0d88498998a2f0699a5c768c",
       "tooltip": null
      }
     },
     "dbce2a74081f40f6bfde2fd37e99989d": {
      "model_module": "@jupyter-widgets/controls",
      "model_module_version": "2.0.0",
      "model_name": "HTMLStyleModel",
      "state": {
       "description_width": "",
       "font_size": null,
       "text_color": null
      }
     },
     "e1ef3b8af7b64338b451ee024863e22a": {
      "model_module": "@jupyter-widgets/controls",
      "model_module_version": "2.0.0",
      "model_name": "GridBoxModel",
      "state": {
       "children": [
        "IPY_MODEL_c059ac1c9ba4449ba89ba581b0469acc"
       ],
       "layout": "IPY_MODEL_34d33232bd984ad88836add1526dc757"
      }
     },
     "e2f771b6c58741a780ebfa14733b6717": {
      "model_module": "@jupyter-widgets/base",
      "model_module_version": "2.0.0",
      "model_name": "LayoutModel",
      "state": {
       "margin": "0px 0px 10px 0px"
      }
     },
     "e35a81121bd945f0a51559e4e538086d": {
      "model_module": "@jupyter-widgets/base",
      "model_module_version": "2.0.0",
      "model_name": "LayoutModel",
      "state": {
       "width": "70px"
      }
     },
     "e5bc663d3d6d4eceb627bfec0d29d901": {
      "model_module": "@jupyter-widgets/controls",
      "model_module_version": "2.0.0",
      "model_name": "HTMLStyleModel",
      "state": {
       "description_width": "",
       "font_size": null,
       "text_color": null
      }
     },
     "ed67369bd5ee4754bdfe374247dd5acb": {
      "model_module": "@jupyter-widgets/base",
      "model_module_version": "2.0.0",
      "model_name": "LayoutModel",
      "state": {
       "margin": "0px 0px 0px 37px",
       "width": "600px"
      }
     },
     "fb7c7c356eeb414ca42d40da40064c88": {
      "model_module": "@jupyter-widgets/controls",
      "model_module_version": "2.0.0",
      "model_name": "HTMLStyleModel",
      "state": {
       "description_width": "",
       "font_size": null,
       "text_color": null
      }
     }
    },
    "version_major": 2,
    "version_minor": 0
   }
  }
 },
 "nbformat": 4,
 "nbformat_minor": 5
}
