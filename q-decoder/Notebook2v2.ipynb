{
 "cells": [
  {
   "cell_type": "code",
   "execution_count": 12,
   "id": "b8fa954f-dab1-47a8-88d8-3bc9c9132eac",
   "metadata": {
    "tags": []
   },
   "outputs": [
    {
     "name": "stdout",
     "output_type": "stream",
     "text": [
      "qiskit-imports, qiskit-runtime-service, misc-imports, and helper-functions have been loaded. \n",
      "all loaded.\n"
     ]
    }
   ],
   "source": [
    "%matplotlib inline\n",
    "%run -i qiskit_prelude.py\n",
    "import random\n",
    "import pickle as pkl\n",
    "import matplotlib.pyplot as plt\n",
    "import matplotlib.animation as mpl_animation\n",
    "QCirc, QInstr, QReg, CReg = QuantumCircuit, Instruction, QuantumRegister, ClassicalRegister\n",
    "print(\"all loaded.\")"
   ]
  },
  {
   "cell_type": "code",
   "execution_count": 16,
   "id": "a3a00960-cf3d-47d6-9c73-3fd8c144d702",
   "metadata": {
    "tags": []
   },
   "outputs": [],
   "source": [
    "# Set how many bits we are going to use to represent X, Y, and t coordinates\n",
    "bits_x = 5\n",
    "bits_y = 5\n",
    "bits_t = 4\n",
    "\n",
    "# Set how many boxes there are:\n",
    "log2_n_boxes = 6\n",
    "n_boxes = 1 << log2_n_boxes\n",
    "\n",
    "# Convert a positive integer into bits, erroring on overflow\n",
    "def as_bits(n_orig: int, bits: int):\n",
    "    n = n_orig\n",
    "    result = []\n",
    "    for i in range(bits - 1, -1, -1):\n",
    "        power = 1 << i\n",
    "        if n >= power:\n",
    "            n -= power\n",
    "            result.append(True)\n",
    "        else:\n",
    "            result.append(False)\n",
    "    if n != 0:\n",
    "        raise RuntimeError(\"Overflow (or logic error) in as_bits.\")\n",
    "    return result[::-1]\n",
    "\n",
    "assert as_bits(23, 5)[::-1] == [True, False, True, True, True]\n",
    "\n",
    "@dataclass(frozen=True)\n",
    "class Box:\n",
    "    x:      int\n",
    "    y:      int\n",
    "    t:      int\n",
    "    log2_w: int # w = width (X)\n",
    "    log2_h: int # h = height (Y)\n",
    "    log2_d: int # d = duration (t)\n",
    "    \n",
    "    def volume(self) -> int:\n",
    "        return (2**self.log2_w) + (2**self.log2_h) + (2**self.log2_d)\n",
    "    \n",
    "    def get_start_as_bits(self, which: str):\n",
    "        if   which == \"X\":\n",
    "            return as_bits(self.x, bits_x)\n",
    "        elif which == \"Y\":\n",
    "            return as_bits(self.y, bits_y)\n",
    "        elif which == \"t\":\n",
    "            return as_bits(self.t, bits_t)\n",
    "        else:\n",
    "            raise RuntimeError(\"Which dimension (for start) must be X, Y, or t.\")\n",
    "    \n",
    "    def get_n_offset_bits_by_dim(self, which: str):\n",
    "        if   which == \"X\":\n",
    "            return self.log2_w\n",
    "        elif which == \"Y\":\n",
    "            return self.log2_h\n",
    "        elif which == \"t\":\n",
    "            return self.log2_d\n",
    "        else:\n",
    "            raise RuntimeError(\"Which dimension (for offset) must be X, Y, or t.\")\n",
    "\n",
    "    def contains_point(self, qx: int, qy: int, qt: int):\n",
    "        x_ok = ((qx - self.x) >= 0) and ((qx - self.x) <= (1 << self.log2_w))\n",
    "        y_ok = ((qy - self.y) >= 0) and ((qy - self.y) <= (1 << self.log2_h))\n",
    "        t_ok = ((qt - self.t) >= 0) and ((qt - self.t) <= (1 << self.log2_d))\n",
    "        return x_ok and y_ok and t_ok\n",
    "\n",
    "def box_union_contains_point(box_union_of: list[Box], xyt: (int, int, int)):\n",
    "    x, y, t = xyt\n",
    "    for box in box_union_of:\n",
    "        if box.contains_point(x, y, t):\n",
    "            return True\n",
    "    return False"
   ]
  },
  {
   "cell_type": "code",
   "execution_count": 18,
   "id": "9678e20c-5bcf-4e59-9479-e082cdade885",
   "metadata": {
    "tags": []
   },
   "outputs": [
    {
     "data": {
      "text/plain": [
       "[Box(x=1, y=3, t=10, log2_w=4, log2_h=3, log2_d=0),\n",
       " Box(x=8, y=4, t=9, log2_w=4, log2_h=3, log2_d=0),\n",
       " Box(x=0, y=15, t=13, log2_w=4, log2_h=2, log2_d=1)]"
      ]
     },
     "execution_count": 18,
     "metadata": {},
     "output_type": "execute_result"
    }
   ],
   "source": [
    "CHUNK_NUMBER = 0 # CHANGE THIS TO RENDER DIFFERENT CHUNKS\n",
    "with open(\"encoded.pkl\", \"rb\") as f:\n",
    "    boxes = [ eval(i) for i in pkl.load(f)[CHUNK_NUMBER] ]  # look, pickle.load is already unsafe anyway\n",
    "                                                            # if you're gonna have something be eval-able\n",
    "                                                            # you might as well commit and have it eval'd twice\n",
    "boxes[:3]"
   ]
  },
  {
   "cell_type": "code",
   "execution_count": 19,
   "id": "bef656ba-6bdf-48bb-bd4f-b5db86fbef78",
   "metadata": {
    "tags": []
   },
   "outputs": [
    {
     "name": "stdout",
     "output_type": "stream",
     "text": [
      "Requires 101 qubits for each parallel run.\n"
     ]
    }
   ],
   "source": [
    "@dataclass(frozen=True)\n",
    "class Shift:\n",
    "    qubit_index_a: int\n",
    "    qubit_index_b: int\n",
    "    amount_pr: float\n",
    "    \n",
    "    def ry_angle(self):\n",
    "        return 2 * asin(sqrt(n_boxes * self.amount_pr))\n",
    "\n",
    "def circ_prepare_box_index(box_volumes: list[int]) -> QInstr:\n",
    "    # Set up our quantum registers\n",
    "    unweighted_binary_index = QReg(log2_n_boxes)\n",
    "    unary_index             = QReg(n_boxes)\n",
    "    index_distribution      = QReg(n_shifts)\n",
    "    index_distribution_help = QReg(n_shifts)\n",
    "    # Create a circuit object\n",
    "    qc = QuantumCircuit(\n",
    "        unweighted_binary_index, unary_index,\n",
    "        index_distribution, index_distribution_help,\n",
    "        name=\"prepare_box_index\",\n",
    "    )\n",
    "    # First, we put the unweighted_binary register into a basic, uniform superposition\n",
    "    qc.h(unweighted_binary_index)\n",
    "    # Then, we convert this into an unary index\n",
    "    qc.append(circ_binary_to_unary(n_boxes, log2_n_boxes), [*unweighted_binary_index, *unary_index])\n",
    "    # Then, we can weight the unary part (not perfectly, but nothing about this is anywhere close to perfect)\n",
    "    qc.append(circ_weight_unary(box_volumes), [*unary_index, *index_distribution, *index_distribution_help])\n",
    "    # Return the circuit as an instruction\n",
    "    return qc.to_instruction()\n",
    "\n",
    "def circ_binary_to_unary(n: int, log2_n: int) -> QInstr:\n",
    "    # Set up our quantum registers\n",
    "    binary = QReg(log2_n)\n",
    "    unary  = QReg(n)\n",
    "    # Create a circuit object\n",
    "    qc = QuantumCircuit(binary, unary, name=\"binary_to_unary\")\n",
    "    # First, we appropriately entangle the first two unary digits\n",
    "    qc.cx(binary[0], unary[1])\n",
    "    qc.x(binary[0])\n",
    "    qc.cx(binary[0], unary[0])\n",
    "    # Now, we can use a series of CSWAP gates to move the unary digits around\n",
    "    n_processed = 2\n",
    "    for i in range(1, log2_n):\n",
    "        for j in range(n_processed):\n",
    "            qc.cswap(binary[i], unary[j], unary[j + n_processed])\n",
    "        n_processed *= 2\n",
    "    # Return the circuit as an instruction\n",
    "    return qc.to_instruction()\n",
    "\n",
    "def circ_weight_unary(box_volumes: list[int]) -> QInstr:\n",
    "    # Set up our quantum registers\n",
    "    unary                   = QReg(n_boxes)\n",
    "    index_distribution      = QReg(n_shifts)\n",
    "    index_distribution_help = QReg(n_shifts)\n",
    "    # Create a circuit object\n",
    "    qc = QuantumCircuit(unary, index_distribution, index_distribution_help, name=\"weight_unary\")\n",
    "    # Perform the necessary shifts\n",
    "    for i, shift in enumerate(shifts):\n",
    "        qc.ry(shift.ry_angle(), index_distribution[i])\n",
    "        qc.ccx(unary[shift.qubit_index_b], index_distribution[i], index_distribution_help[i])\n",
    "        qc.cx(index_distribution_help[i], unary[shift.qubit_index_a])\n",
    "        qc.cx(index_distribution_help[i], unary[shift.qubit_index_b])\n",
    "    # Return the circuit as an instruction\n",
    "    return qc.to_instruction()\n",
    "\n",
    "box_volumes = [ box.volume() for box in boxes ]\n",
    "desired_box_probabilities = [ volume / sum(box_volumes) for volume in box_volumes ]\n",
    "assert len(boxes) == n_boxes\n",
    "\n",
    "# First, we need to preprocess the boxes, also giving us n_shifts\n",
    "no_shift_threshold = 0.08\n",
    "shifts = []\n",
    "required_mean = 1 / n_boxes\n",
    "box_indices = list(range(len(boxes)))\n",
    "remaining_box_indices = box_indices[:]\n",
    "random.shuffle(box_indices)\n",
    "for i in box_indices:\n",
    "    if i not in remaining_box_indices:\n",
    "        continue\n",
    "    vol = desired_box_probabilities[i]\n",
    "    best_vol_diff, best_j = float('inf'), None\n",
    "    for j in remaining_box_indices:\n",
    "        if j == i:\n",
    "            continue\n",
    "        j_vol = desired_box_probabilities[j]\n",
    "        vol_mean = (j_vol + vol) / 2\n",
    "        vol_diff = abs(vol_mean - required_mean)\n",
    "        if vol_diff < best_vol_diff:\n",
    "            best_vol_diff = vol_diff\n",
    "            best_j = j\n",
    "    best_vol = desired_box_probabilities[best_j]\n",
    "    if best_vol > vol:\n",
    "        chosen_hi = best_j\n",
    "        chosen_lo = i\n",
    "        shift_amount_p = ((best_vol - required_mean) + (required_mean - vol)) / 2\n",
    "    else:\n",
    "        chosen_hi = i\n",
    "        chosen_lo = best_j\n",
    "        shift_amount_p = ((vol - required_mean) + (required_mean - best_vol)) / 2\n",
    "    assert desired_box_probabilities[chosen_hi] >= desired_box_probabilities[chosen_lo]\n",
    "    assert shift_amount_p >= 0\n",
    "    if shift_amount_p > no_shift_threshold:      # <- Checks if we even need to shift\n",
    "        if abs(n_boxes * shift_amount_p) <= 1.0: # <- Checks if we can shift\n",
    "            shifts.append(Shift(chosen_hi, chosen_lo, shift_amount_p))\n",
    "    remaining_box_indices.pop(remaining_box_indices.index(i))\n",
    "    remaining_box_indices.pop(remaining_box_indices.index(best_j))\n",
    "n_shifts = len(shifts)\n",
    "shifts\n",
    "\n",
    "sizes_by_dim = {\n",
    "    \"X\": bits_x,\n",
    "    \"Y\": bits_y,\n",
    "    \"t\": bits_t,\n",
    "}\n",
    "\n",
    "def circ_index_to_start() -> QInstr:\n",
    "    # Quantum registers\n",
    "    unary_index             = QReg(n_boxes     , name=\"unary_index\")\n",
    "    x_start                 = QReg(bits_x      , name=\"x_start\")\n",
    "    y_start                 = QReg(bits_y      , name=\"y_start\")\n",
    "    t_start                 = QReg(bits_t      , name=\"t_start\")\n",
    "    # Make dictionaries\n",
    "    starts_by_dim = {\n",
    "        \"X\": x_start,\n",
    "        \"Y\": y_start,\n",
    "        \"t\": t_start,\n",
    "    }\n",
    "    # Create circuit object\n",
    "    qc = QuantumCircuit(unary_index, x_start, y_start, t_start, name=\"index_to_start\")\n",
    "    # Actual operation\n",
    "    for i in range(n_boxes):\n",
    "        for dim in \"XYt\":\n",
    "            bits = boxes[i].get_start_as_bits(dim)\n",
    "            for j in range(sizes_by_dim[dim]):\n",
    "                if bits[j]:\n",
    "                    qc.cx(unary_index[i], starts_by_dim[dim][j])\n",
    "    # Return instruction form\n",
    "    return qc.to_instruction()\n",
    "\n",
    "def circ_index_to_offset() -> QInstr:\n",
    "    # Quantum registers\n",
    "    unary_index             = QReg(n_boxes     , name=\"unary_index\")\n",
    "    x_offset                = QReg(bits_x      , name=\"x_start\")\n",
    "    y_offset                = QReg(bits_y      , name=\"y_start\")\n",
    "    t_offset                = QReg(bits_t      , name=\"t_start\")\n",
    "    # Make dictionaries\n",
    "    offsets_by_dim = {\n",
    "        \"X\": x_offset,\n",
    "        \"Y\": y_offset,\n",
    "        \"t\": t_offset,\n",
    "    }\n",
    "    # Create circuit object\n",
    "    qc = QuantumCircuit(unary_index, x_offset, y_offset, t_offset, name=\"index_to_offset\")\n",
    "    # Actual operation\n",
    "    for i in range(n_boxes):\n",
    "        for dim in \"XYt\":\n",
    "            n_bits = boxes[i].get_n_offset_bits_by_dim(dim)\n",
    "            counter = 0\n",
    "            for j in range(0, sizes_by_dim[dim]):\n",
    "                if counter >= n_bits:\n",
    "                    break\n",
    "                qc.ch(unary_index[i], offsets_by_dim[dim][j])\n",
    "                counter += 1\n",
    "    # Return instruction form\n",
    "    return qc.to_instruction()\n",
    "\n",
    "def circ_sample_box() -> QInstr:\n",
    "    # Quantum registers\n",
    "    x_start                 = QReg(bits_x      , name=\"x_start\")\n",
    "    x_offset                = QReg(bits_x      , name=\"x_offset\")\n",
    "    y_start                 = QReg(bits_y      , name=\"y_start\")\n",
    "    y_offset                = QReg(bits_y      , name=\"y_offset\")\n",
    "    t_start                 = QReg(bits_t      , name=\"t_start\")\n",
    "    t_offset                = QReg(bits_t      , name=\"t_offset\")\n",
    "    addition_help           = QReg(3           , name=\"addition_help\")\n",
    "    # Dictionaries\n",
    "    starts_by_dim = {\n",
    "        \"X\": x_start,\n",
    "        \"Y\": y_start,\n",
    "        \"t\": t_start,\n",
    "    }\n",
    "    offsets_by_dim = {\n",
    "        \"X\": x_offset,\n",
    "        \"Y\": y_offset,\n",
    "        \"t\": t_offset,\n",
    "    }\n",
    "    # Create circuit object\n",
    "    qc = QuantumCircuit(\n",
    "        x_start, x_offset,\n",
    "        y_start, y_offset,\n",
    "        t_start, t_offset,\n",
    "        addition_help,\n",
    "        name=\"sample_box\",\n",
    "    )\n",
    "    # Operations (additions in this case)\n",
    "    for dim_i, dim in enumerate(\"XYt\"):\n",
    "        qc.append(CDKMRippleCarryAdder(sizes_by_dim[dim], kind=\"fixed\"), [\n",
    "            *starts_by_dim[dim], *offsets_by_dim[dim], addition_help[dim_i],\n",
    "        ])\n",
    "    # Return instruction form\n",
    "    return qc.to_instruction()\n",
    "\n",
    "# Now, for the overall quantum circuit for a single timeslice\n",
    "def circ_main_once(just_prepare_box_index: bool = False) -> QInstr | int:\n",
    "    # Let's first make all the necessary registers\n",
    "    # First the quantum ones\n",
    "    unweighted_binary_index = QReg(log2_n_boxes, name=\"unweighted_binary_index\")\n",
    "    unary_index             = QReg(n_boxes     , name=\"unary_index\")\n",
    "    index_distribution      = QReg(n_shifts    , name=\"index_distribution\")\n",
    "    index_distribution_help = QReg(n_shifts    , name=\"index_distribution_help\")\n",
    "    x_start                 = QReg(bits_x      , name=\"x_start\")\n",
    "    x_offset                = QReg(bits_x      , name=\"x_offset\")\n",
    "    y_start                 = QReg(bits_y      , name=\"y_start\")\n",
    "    y_offset                = QReg(bits_y      , name=\"y_offset\")\n",
    "    t_start                 = QReg(bits_t      , name=\"t_start\")\n",
    "    t_offset                = QReg(bits_t      , name=\"t_offset\")\n",
    "    addition_help           = QReg(3           , name=\"addition_help\")\n",
    "    # Create a circuit object\n",
    "    if just_prepare_box_index:\n",
    "        qc = QuantumCircuit(\n",
    "            unweighted_binary_index,\n",
    "            unary_index,\n",
    "            index_distribution,\n",
    "            index_distribution_help,\n",
    "            name=\"main_once\",\n",
    "        )\n",
    "    else:\n",
    "        qc = QuantumCircuit(\n",
    "            unweighted_binary_index,\n",
    "            unary_index,\n",
    "            index_distribution,\n",
    "            index_distribution_help,\n",
    "            x_start, x_offset,\n",
    "            y_start, y_offset,\n",
    "            t_start, t_offset,\n",
    "            addition_help,\n",
    "            name=\"main_once\",\n",
    "        )\n",
    "    # There are four main steps:\n",
    "    # 1. Prepare a weighted superposition of unary box index states\n",
    "    qc.append(circ_prepare_box_index([ box.volume() for box in boxes ]), [\n",
    "        *unweighted_binary_index, *unary_index,\n",
    "        *index_distribution, *index_distribution_help,\n",
    "    ])\n",
    "    if just_prepare_box_index:\n",
    "        return qc.to_instruction()\n",
    "    # 2. Transform this into a superposition of possible starting points\n",
    "    qc.append(circ_index_to_start(), [*unary_index, *x_start, *y_start, *t_start])\n",
    "    # 3. Transform this into a superposition of offsets\n",
    "    qc.append(circ_index_to_offset(), [*unary_index, *x_offset, *y_offset, *t_offset])\n",
    "    # 4. Add the starting points to the offsets, arriving at a superposition of points\n",
    "    qc.append(circ_sample_box(), [\n",
    "        *x_start, *x_offset,\n",
    "        *y_start, *y_offset,\n",
    "        *t_start, *t_offset,\n",
    "        *addition_help,\n",
    "    ])\n",
    "    # Return the circuit as an instruction\n",
    "    return qc.to_instruction()\n",
    "\n",
    "qubits_per_main_once_run = circ_main_once().num_qubits\n",
    "print(f\"Requires {qubits_per_main_once_run} qubits for each parallel run.\")\n",
    "\n",
    "def qc_main():\n",
    "    just_prepare_box_index = False\n",
    "    main_once_fst = circ_main_once(just_prepare_box_index=just_prepare_box_index)\n",
    "    q_fst = QReg(qubits_per_main_once_run)\n",
    "    if just_prepare_box_index:\n",
    "        fst_unary_out = CReg(n_boxes, name=\"fst_unary_out\")\n",
    "        qc = QuantumCircuit(\n",
    "            q_fst,\n",
    "            fst_unary_out,\n",
    "            name=\"main\",\n",
    "        )\n",
    "    else:\n",
    "        fst_x_out                   = CReg(bits_x, name=\"fst_x_out\")\n",
    "        fst_y_out                   = CReg(bits_y, name=\"fst_y_out\")\n",
    "        fst_t_out                   = CReg(bits_t, name=\"fst_t_out\")\n",
    "        qc = QuantumCircuit(\n",
    "            q_fst,\n",
    "            fst_x_out, fst_y_out, fst_t_out,\n",
    "            name=\"main\",\n",
    "        )\n",
    "    qc.append(main_once_fst, q_fst)\n",
    "    if just_prepare_box_index:\n",
    "        qc.measure(q_fst[log2_n_boxes:(log2_n_boxes+n_boxes)], fst_unary_out)\n",
    "    else:\n",
    "        xyt_offset = log2_n_boxes + n_boxes + n_shifts + n_shifts\n",
    "        cursor = xyt_offset\n",
    "        cursor += bits_x\n",
    "        qc.measure(q_fst[cursor:(cursor := cursor + bits_x)], fst_x_out)\n",
    "        cursor += bits_y\n",
    "        qc.measure(q_fst[cursor:(cursor := cursor + bits_y)], fst_y_out)\n",
    "        cursor += bits_t\n",
    "        qc.measure(q_fst[cursor:(cursor := cursor + bits_t)], fst_t_out)\n",
    "        cursor += 3\n",
    "        assert cursor == qubits_per_main_once_run\n",
    "    return qc"
   ]
  },
  {
   "cell_type": "code",
   "execution_count": 20,
   "id": "c6d53376-1eeb-41d7-ab90-674f267d06c2",
   "metadata": {
    "tags": []
   },
   "outputs": [
    {
     "data": {
      "text/plain": [
       "<qiskit.circuit.quantumcircuit.QuantumCircuit at 0x7f8fd699b460>"
      ]
     },
     "execution_count": 20,
     "metadata": {},
     "output_type": "execute_result"
    }
   ],
   "source": [
    "main = qc_main()\n",
    "main"
   ]
  },
  {
   "cell_type": "code",
   "execution_count": 58,
   "id": "a83a60c4-dd83-40fa-b8a6-0d0809b84934",
   "metadata": {
    "tags": []
   },
   "outputs": [],
   "source": [
    "#main.decompose().decompose().draw()"
   ]
  },
  {
   "cell_type": "code",
   "execution_count": 21,
   "id": "9056a35c-875f-46bb-a9e3-2b1cf6d08fbe",
   "metadata": {
    "tags": []
   },
   "outputs": [],
   "source": [
    "n_shots = 2048\n",
    "simulation_result = simulate_quantum_circuit(main, shots=n_shots)"
   ]
  },
  {
   "cell_type": "code",
   "execution_count": 25,
   "id": "5bdded4e-135d-4e0e-98ff-03bdea3ec220",
   "metadata": {
    "tags": []
   },
   "outputs": [
    {
     "name": "stdout",
     "output_type": "stream",
     "text": [
      "100.000% OK\n"
     ]
    }
   ],
   "source": [
    "def binstr2dec(s: str):\n",
    "    # Yes, this is a mind-bogglingy stupid way to do this\n",
    "    # And an unsafe one at that\n",
    "    # Hopelessly inefficient too\n",
    "    # Unfortunately it's 11 P.M. and I don't care\n",
    "    return eval(f'0b{s}')\n",
    "\n",
    "def get_coords_from_result(result_keys: list[str]) -> (list[int], list[int], list[int]):\n",
    "    xs, ys, ts = [], [], []\n",
    "    for key in result_keys:\n",
    "        t_rev, y_rev, x_rev = key.split()\n",
    "        xs.append(binstr2dec(x_rev))\n",
    "        ys.append(binstr2dec(y_rev))\n",
    "        ts.append(binstr2dec(t_rev))\n",
    "    return xs, ys, ts\n",
    "\n",
    "result = simulation_result\n",
    "proportion_noise_threshold = 0.05\n",
    "coords = get_coords_from_result(result.keys())\n",
    "good, total = 0, 0\n",
    "for i in zip(*coords):\n",
    "    ok = box_union_contains_point(boxes, i)\n",
    "    good += 1 if ok else 0\n",
    "    total += 1\n",
    "print(f'{(good/total)*100:.3f}% OK')"
   ]
  },
  {
   "cell_type": "code",
   "execution_count": 26,
   "id": "2413b816-6cb1-49dc-8436-a62bc3bf1bc4",
   "metadata": {
    "tags": []
   },
   "outputs": [
    {
     "data": {
      "image/png": "[encoded data removed]",
      "text/plain": [
       "<Figure size 640x480 with 1 Axes>"
      ]
     },
     "metadata": {},
     "output_type": "display_data"
    }
   ],
   "source": [
    "xy_by_time  = [ ([], []) for _ in range(1 << bits_t) ]\n",
    "for x, y, t in zip(*coords):\n",
    "    xy_by_time[t][0].append(x)\n",
    "    xy_by_time[t][1].append(y)\n",
    "fig, ax = plt.subplots()\n",
    "ax.set_xlim(0, 1 << bits_x)\n",
    "ax.set_ylim(0, 1 << bits_y)\n",
    "scatter = ax.scatter(*xy_by_time[0][::-1])\n",
    "def scatter_ani_draw(frame):\n",
    "    arr = np.vstack([\n",
    "        np.array(xy_by_time[frame][1]),\n",
    "        np.array(xy_by_time[frame][0])\n",
    "    ]).T\n",
    "    if arr.size > 0:\n",
    "        scatter.set_offsets(arr)\n",
    "    else:\n",
    "        scatter.set_offsets(np.array([0, 0]))\n",
    "    return (scatter,)\n",
    "scatter_ani = mpl_animation.FuncAnimation(fig, scatter_ani_draw, frames=(1 << bits_t), interval=10, blit=True)\n",
    "scatter_ani.save(\"output.gif\", writer=\"pillow\")"
   ]
  }
 ],
 "metadata": {
  "kernelspec": {
   "display_name": "Python 3 (ipykernel)",
   "language": "python",
   "name": "python3"
  },
  "language_info": {
   "codemirror_mode": {
    "name": "ipython",
    "version": 3
   },
   "file_extension": ".py",
   "mimetype": "text/x-python",
   "name": "python",
   "nbconvert_exporter": "python",
   "pygments_lexer": "ipython3",
   "version": "3.10.8"
  },
  "widgets": {
   "application/vnd.jupyter.widget-state+json": {
    "state": {
     "096da8097fd0426d87580c6c8c3d04f1": {
      "model_module": "@jupyter-widgets/controls",
      "model_module_version": "2.0.0",
      "model_name": "HTMLModel",
      "state": {
       "layout": "IPY_MODEL_f70430ef77de4ba58469b21d37b2d69d",
       "style": "IPY_MODEL_5b1524973e734fd7bac93e15f27a65ed",
       "value": "<h5>Status</h5>"
      }
     },
     "1b2611f0bd524da6b92c8bcd08f9c951": {
      "model_module": "@jupyter-widgets/base",
      "model_module_version": "2.0.0",
      "model_name": "LayoutModel",
      "state": {
       "width": "70px"
      }
     },
     "2bfa4fc9207445e09e37bb0d1bf931c5": {
      "model_module": "@jupyter-widgets/base",
      "model_module_version": "2.0.0",
      "model_name": "LayoutModel",
      "state": {
       "width": "190px"
      }
     },
     "3681c4ede1e14b748368c9f621c325b2": {
      "model_module": "@jupyter-widgets/controls",
      "model_module_version": "2.0.0",
      "model_name": "HTMLStyleModel",
      "state": {
       "description_width": "",
       "font_size": null,
       "text_color": null
      }
     },
     "3f19ba0f15ea4d439d0f4385a0137565": {
      "model_module": "@jupyter-widgets/base",
      "model_module_version": "2.0.0",
      "model_name": "LayoutModel",
      "state": {
       "width": "145px"
      }
     },
     "3f99bd3f922244268df70e62069e14d4": {
      "model_module": "@jupyter-widgets/controls",
      "model_module_version": "2.0.0",
      "model_name": "HBoxModel",
      "state": {
       "children": [
        "IPY_MODEL_ed63b936018c4f64a851f2d8ab6f0ab9",
        "IPY_MODEL_8605af6bde3a458fb3703002333c79e6",
        "IPY_MODEL_096da8097fd0426d87580c6c8c3d04f1",
        "IPY_MODEL_67feb40fd87d4dd480184dfb2b674004",
        "IPY_MODEL_c35f286de8c24e30bf18a2bec8759e50"
       ],
       "layout": "IPY_MODEL_8ddd7c45995d4ee89f96851086618aea"
      }
     },
     "44947acebb68439789c939e113f6694a": {
      "model_module": "@jupyter-widgets/controls",
      "model_module_version": "2.0.0",
      "model_name": "HTMLStyleModel",
      "state": {
       "description_width": "",
       "font_size": null,
       "text_color": null
      }
     },
     "54d47125f4f145889d93416271bce8bb": {
      "model_module": "@jupyter-widgets/base",
      "model_module_version": "2.0.0",
      "model_name": "LayoutModel",
      "state": {
       "grid_template_areas": "\n                                       \". . . . right \"\n                                        ",
       "grid_template_columns": "20% 20% 20% 20% 20%",
       "width": "100%"
      }
     },
     "5b1524973e734fd7bac93e15f27a65ed": {
      "model_module": "@jupyter-widgets/controls",
      "model_module_version": "2.0.0",
      "model_name": "HTMLStyleModel",
      "state": {
       "description_width": "",
       "font_size": null,
       "text_color": null
      }
     },
     "67feb40fd87d4dd480184dfb2b674004": {
      "model_module": "@jupyter-widgets/controls",
      "model_module_version": "2.0.0",
      "model_name": "HTMLModel",
      "state": {
       "layout": "IPY_MODEL_1b2611f0bd524da6b92c8bcd08f9c951",
       "style": "IPY_MODEL_c7ea1a1b3975406dab4c925fcfecfc55",
       "value": "<h5>Queue</h5>"
      }
     },
     "692b764e7d7f4108ae96f38ef52891f4": {
      "model_module": "@jupyter-widgets/base",
      "model_module_version": "2.0.0",
      "model_name": "LayoutModel",
      "state": {
       "margin": "0px 0px 10px 0px"
      }
     },
     "76893cbb3cca486085e6a489a91e4bf5": {
      "model_module": "@jupyter-widgets/controls",
      "model_module_version": "2.0.0",
      "model_name": "HTMLStyleModel",
      "state": {
       "description_width": "",
       "font_size": null,
       "text_color": null
      }
     },
     "8605af6bde3a458fb3703002333c79e6": {
      "model_module": "@jupyter-widgets/controls",
      "model_module_version": "2.0.0",
      "model_name": "HTMLModel",
      "state": {
       "layout": "IPY_MODEL_3f19ba0f15ea4d439d0f4385a0137565",
       "style": "IPY_MODEL_76893cbb3cca486085e6a489a91e4bf5",
       "value": "<h5>Backend</h5>"
      }
     },
     "8ddd7c45995d4ee89f96851086618aea": {
      "model_module": "@jupyter-widgets/base",
      "model_module_version": "2.0.0",
      "model_name": "LayoutModel",
      "state": {
       "margin": "0px 0px 0px 37px",
       "width": "600px"
      }
     },
     "8dedc28b96d34fb29337cca831583175": {
      "model_module": "@jupyter-widgets/controls",
      "model_module_version": "2.0.0",
      "model_name": "ButtonStyleModel",
      "state": {
       "font_family": null,
       "font_size": null,
       "font_style": null,
       "font_variant": null,
       "font_weight": null,
       "text_color": null,
       "text_decoration": null
      }
     },
     "952d43216e8842398486332e9e34e744": {
      "model_module": "@jupyter-widgets/controls",
      "model_module_version": "2.0.0",
      "model_name": "ButtonModel",
      "state": {
       "button_style": "primary",
       "description": "Clear",
       "layout": "IPY_MODEL_fff3b047a5a243938a5080420e9c3663",
       "style": "IPY_MODEL_8dedc28b96d34fb29337cca831583175",
       "tooltip": null
      }
     },
     "9a11748ea1d54582bda56f1a57291028": {
      "model_module": "@jupyter-widgets/controls",
      "model_module_version": "2.0.0",
      "model_name": "HTMLStyleModel",
      "state": {
       "description_width": "",
       "font_size": null,
       "text_color": null
      }
     },
     "9bf3752ac8224788aa1d6e2a62599510": {
      "model_module": "@jupyter-widgets/controls",
      "model_module_version": "2.0.0",
      "model_name": "HTMLModel",
      "state": {
       "layout": "IPY_MODEL_692b764e7d7f4108ae96f38ef52891f4",
       "style": "IPY_MODEL_3681c4ede1e14b748368c9f621c325b2",
       "value": "<p style='font-family: IBM Plex Sans, Arial, Helvetica, sans-serif; font-size: 20px; font-weight: medium;'>Circuit Properties</p>"
      }
     },
     "c02affdb28df46cabc40789a40f06b67": {
      "model_module": "@jupyter-widgets/controls",
      "model_module_version": "2.0.0",
      "model_name": "GridBoxModel",
      "state": {
       "children": [
        "IPY_MODEL_952d43216e8842398486332e9e34e744"
       ],
       "layout": "IPY_MODEL_54d47125f4f145889d93416271bce8bb"
      }
     },
     "c35f286de8c24e30bf18a2bec8759e50": {
      "model_module": "@jupyter-widgets/controls",
      "model_module_version": "2.0.0",
      "model_name": "HTMLModel",
      "state": {
       "layout": "IPY_MODEL_e7fe78b01f024d43938849c630430aff",
       "style": "IPY_MODEL_44947acebb68439789c939e113f6694a",
       "value": "<h5>Message</h5>"
      }
     },
     "c7ea1a1b3975406dab4c925fcfecfc55": {
      "model_module": "@jupyter-widgets/controls",
      "model_module_version": "2.0.0",
      "model_name": "HTMLStyleModel",
      "state": {
       "description_width": "",
       "font_size": null,
       "text_color": null
      }
     },
     "e7fe78b01f024d43938849c630430aff": {
      "model_module": "@jupyter-widgets/base",
      "model_module_version": "2.0.0",
      "model_name": "LayoutModel",
      "state": {}
     },
     "ed63b936018c4f64a851f2d8ab6f0ab9": {
      "model_module": "@jupyter-widgets/controls",
      "model_module_version": "2.0.0",
      "model_name": "HTMLModel",
      "state": {
       "layout": "IPY_MODEL_2bfa4fc9207445e09e37bb0d1bf931c5",
       "style": "IPY_MODEL_9a11748ea1d54582bda56f1a57291028",
       "value": "<h5>Job ID</h5>"
      }
     },
     "f70430ef77de4ba58469b21d37b2d69d": {
      "model_module": "@jupyter-widgets/base",
      "model_module_version": "2.0.0",
      "model_name": "LayoutModel",
      "state": {
       "width": "95px"
      }
     },
     "fff3b047a5a243938a5080420e9c3663": {
      "model_module": "@jupyter-widgets/base",
      "model_module_version": "2.0.0",
      "model_name": "LayoutModel",
      "state": {
       "grid_area": "right",
       "padding": "0px 0px 0px 0px",
       "width": "70px"
      }
     }
    },
    "version_major": 2,
    "version_minor": 0
   }
  }
 },
 "nbformat": 4,
 "nbformat_minor": 5
}
