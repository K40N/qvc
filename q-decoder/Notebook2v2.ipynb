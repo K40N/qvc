{
 "cells": [
  {
   "cell_type": "code",
   "execution_count": 1,
   "id": "b8fa954f-dab1-47a8-88d8-3bc9c9132eac",
   "metadata": {
    "tags": []
   },
   "outputs": [
    {
     "name": "stdout",
     "output_type": "stream",
     "text": [
      "qiskit-imports, qiskit-runtime-service, misc-imports, and helper-functions have been loaded. \n",
      "all loaded.\n"
     ]
    }
   ],
   "source": [
    "%matplotlib inline\n",
    "%run -i qiskit_prelude.py\n",
    "import random\n",
    "import pickle as pkl\n",
    "import matplotlib.pyplot as plt\n",
    "import matplotlib.animation as mpl_animation\n",
    "QCirc, QInstr, QReg, CReg = QuantumCircuit, Instruction, QuantumRegister, ClassicalRegister\n",
    "print(\"all loaded.\")"
   ]
  },
  {
   "cell_type": "code",
   "execution_count": 69,
   "id": "a3a00960-cf3d-47d6-9c73-3fd8c144d702",
   "metadata": {
    "tags": []
   },
   "outputs": [],
   "source": [
    "# Set how many bits we are going to use to represent X, Y, and t coordinates\n",
    "bits_x = 5\n",
    "bits_y = 5\n",
    "bits_t = 3\n",
    "\n",
    "# Set how many boxes there are:\n",
    "log2_n_boxes = 3\n",
    "n_boxes = 1 << log2_n_boxes\n",
    "\n",
    "# Set the maximum number of allowed shifts\n",
    "n_allowed_shifts = 4\n",
    "\n",
    "# Convert a positive integer into bits, erroring on overflow\n",
    "def as_bits(n_orig: int, bits: int):\n",
    "    n = n_orig\n",
    "    result = []\n",
    "    for i in range(bits - 1, -1, -1):\n",
    "        power = 1 << i\n",
    "        if n >= power:\n",
    "            n -= power\n",
    "            result.append(True)\n",
    "        else:\n",
    "            result.append(False)\n",
    "    if n != 0:\n",
    "        raise RuntimeError(\"Overflow (or logic error) in as_bits.\")\n",
    "    return result[::-1]\n",
    "\n",
    "assert as_bits(23, 5)[::-1] == [True, False, True, True, True]\n",
    "\n",
    "@dataclass(frozen=True)\n",
    "class Box:\n",
    "    x:      int\n",
    "    y:      int\n",
    "    t:      int\n",
    "    log2_w: int # w = width (X)\n",
    "    log2_h: int # h = height (Y)\n",
    "    log2_d: int # d = duration (t)\n",
    "    \n",
    "    def volume(self) -> int:\n",
    "        return (2**self.log2_w) + (2**self.log2_h) + (2**self.log2_d)\n",
    "    \n",
    "    def get_start_as_bits(self, which: str):\n",
    "        if   which == \"X\":\n",
    "            return as_bits(self.x, bits_x)\n",
    "        elif which == \"Y\":\n",
    "            return as_bits(self.y, bits_y)\n",
    "        elif which == \"t\":\n",
    "            return as_bits(self.t, bits_t)\n",
    "        else:\n",
    "            raise RuntimeError(\"Which dimension (for start) must be X, Y, or t.\")\n",
    "    \n",
    "    def get_n_offset_bits_by_dim(self, which: str):\n",
    "        if   which == \"X\":\n",
    "            return self.log2_w\n",
    "        elif which == \"Y\":\n",
    "            return self.log2_h\n",
    "        elif which == \"t\":\n",
    "            return self.log2_d\n",
    "        else:\n",
    "            raise RuntimeError(\"Which dimension (for offset) must be X, Y, or t.\")\n",
    "\n",
    "    def contains_point(self, qx: int, qy: int, qt: int):\n",
    "        x_ok = ((qx - self.x) >= 0) and ((qx - self.x) <= (1 << self.log2_w))\n",
    "        y_ok = ((qy - self.y) >= 0) and ((qy - self.y) <= (1 << self.log2_h))\n",
    "        t_ok = ((qt - self.t) >= 0) and ((qt - self.t) <= (1 << self.log2_d))\n",
    "        return x_ok and y_ok and t_ok\n",
    "\n",
    "def box_union_contains_point(box_union_of: list[Box], xyt: (int, int, int)):\n",
    "    x, y, t = xyt\n",
    "    for box in box_union_of:\n",
    "        if box.contains_point(x, y, t):\n",
    "            return True\n",
    "    return False"
   ]
  },
  {
   "cell_type": "code",
   "execution_count": 70,
   "id": "9678e20c-5bcf-4e59-9479-e082cdade885",
   "metadata": {
    "tags": []
   },
   "outputs": [
    {
     "data": {
      "text/plain": [
       "([Box(x=2, y=27, t=5, log2_w=4, log2_h=2, log2_d=0),\n",
       "  Box(x=0, y=31, t=5, log2_w=4, log2_h=0, log2_d=1),\n",
       "  Box(x=8, y=24, t=5, log2_w=4, log2_h=1, log2_d=0)],\n",
       " [Box(x=1, y=3, t=2, log2_w=4, log2_h=3, log2_d=0),\n",
       "  Box(x=8, y=4, t=1, log2_w=4, log2_h=3, log2_d=0),\n",
       "  Box(x=0, y=15, t=5, log2_w=4, log2_h=2, log2_d=1)])"
      ]
     },
     "execution_count": 70,
     "metadata": {},
     "output_type": "execute_result"
    }
   ],
   "source": [
    "CHUNK_NUMBER_FST, CHUNK_NUMBER_SND = 0, 1 # CHANGE THESE TO RENDER DIFFERENT CHUNKS\n",
    "with open(\"encoded.pkl\", \"rb\") as f:\n",
    "    obj = pkl.load(f)\n",
    "    boxes_fst = [ eval(i) for i in obj[CHUNK_NUMBER_FST] ]\n",
    "    boxes_snd = [ eval(i) for i in obj[CHUNK_NUMBER_SND] ]\n",
    "    # look, pickle.load is already unsafe anyway\n",
    "    # if you're gonna have something be eval-able\n",
    "    # you might as well commit and have it eval'd twice\n",
    "boxes_fst[:3], boxes_snd[:3]"
   ]
  },
  {
   "cell_type": "code",
   "execution_count": 71,
   "id": "8197c60b-8bdc-42d8-99ec-e806bfa80616",
   "metadata": {
    "tags": []
   },
   "outputs": [],
   "source": [
    "def make_instr_show_depth(qc: QCirc) -> QInstr:\n",
    "    decomposed = qc\n",
    "    for i in range(10):\n",
    "        decomposed = decomposed.decompose()\n",
    "    print(f\"[info] [depth-of] {qc.name} -> {decomposed.depth()}\")\n",
    "    return qc.to_instruction()"
   ]
  },
  {
   "cell_type": "code",
   "execution_count": 73,
   "id": "bef656ba-6bdf-48bb-bd4f-b5db86fbef78",
   "metadata": {
    "tags": []
   },
   "outputs": [],
   "source": [
    "@dataclass(frozen=True)\n",
    "class Shift:\n",
    "    qubit_index_a: int\n",
    "    qubit_index_b: int\n",
    "    amount_pr: float\n",
    "    \n",
    "    def ry_angle(self):\n",
    "        return 2 * asin(sqrt(n_boxes * self.amount_pr))\n",
    "\n",
    "def circ_prepare_box_index(n_shifts: int, shifts: list[Shift], box_volumes: list[int]) -> QCirc:\n",
    "    # Set up our quantum registers\n",
    "    unweighted_binary_index = QReg(log2_n_boxes)\n",
    "    unary_index             = QReg(n_boxes)\n",
    "    index_distribution      = QReg(n_shifts)\n",
    "    index_distribution_help = QReg(n_shifts)\n",
    "    # Create a circuit object\n",
    "    qc = QuantumCircuit(\n",
    "        unweighted_binary_index, unary_index,\n",
    "        index_distribution, index_distribution_help,\n",
    "        name=\"prepare_box_index\",\n",
    "    )\n",
    "    # First, we put the unweighted_binary register into a basic, uniform superposition\n",
    "    qc.h(unweighted_binary_index)\n",
    "    # Then, we convert this into an unary index\n",
    "    qc.append(circ_binary_to_unary(n_boxes, log2_n_boxes), [*unweighted_binary_index, *unary_index])\n",
    "    # Then, we can weight the unary part (not perfectly, but nothing about this is anywhere close to perfect)\n",
    "    qc.append(circ_weight_unary(n_shifts, shifts, box_volumes), [*unary_index, *index_distribution, *index_distribution_help])\n",
    "    return qc\n",
    "\n",
    "def circ_binary_to_unary(n: int, log2_n: int) -> QInstr:\n",
    "    # Set up our quantum registers\n",
    "    binary = QReg(log2_n)\n",
    "    unary  = QReg(n)\n",
    "    # Create a circuit object\n",
    "    qc = QuantumCircuit(binary, unary, name=\"binary_to_unary\")\n",
    "    # First, we appropriately entangle the first two unary digits\n",
    "    qc.cx(binary[0], unary[1])\n",
    "    qc.x(binary[0])\n",
    "    qc.cx(binary[0], unary[0])\n",
    "    # Now, we can use a series of CSWAP gates to move the unary digits around\n",
    "    n_processed = 2\n",
    "    for i in range(1, log2_n):\n",
    "        for j in range(n_processed):\n",
    "            qc.cswap(binary[i], unary[j], unary[j + n_processed])\n",
    "        n_processed *= 2\n",
    "    # Return the circuit as an instruction\n",
    "    return qc.to_instruction()\n",
    "\n",
    "def circ_weight_unary(n_shifts: int, shifts: list[Shift], box_volumes: list[int]) -> QInstr:\n",
    "    # Set up our quantum registers\n",
    "    unary                   = QReg(n_boxes)\n",
    "    index_distribution      = QReg(n_shifts)\n",
    "    index_distribution_help = QReg(n_shifts)\n",
    "    # Create a circuit object\n",
    "    qc = QuantumCircuit(unary, index_distribution, index_distribution_help, name=\"weight_unary\")\n",
    "    # Perform the necessary shifts\n",
    "    for i, shift in enumerate(shifts):\n",
    "        qc.ry(shift.ry_angle(), index_distribution[i])\n",
    "        qc.ccx(unary[shift.qubit_index_b], index_distribution[i], index_distribution_help[i])\n",
    "        qc.cx(index_distribution_help[i], unary[shift.qubit_index_a])\n",
    "        qc.cx(index_distribution_help[i], unary[shift.qubit_index_b])\n",
    "    # Return the circuit as an instruction\n",
    "    return qc.to_instruction()\n",
    "\n",
    "# First, we need to preprocess the boxes, also giving us n_shifts\n",
    "def calculate_shifts(boxes: list[Box]) -> tuple[int, list[Shift]]:\n",
    "    box_volumes = [ box.volume() for box in boxes ]\n",
    "    desired_box_probabilities = [ volume / sum(box_volumes) for volume in box_volumes ]\n",
    "    assert len(boxes) == n_boxes\n",
    "    no_shift_threshold = 0.005\n",
    "    shifts = []\n",
    "    required_mean = 1 / n_boxes\n",
    "    box_indices = list(range(len(boxes)))\n",
    "    remaining_box_indices = box_indices[:]\n",
    "    random.shuffle(box_indices)\n",
    "    for i in box_indices:\n",
    "        if i not in remaining_box_indices:\n",
    "            continue\n",
    "        vol = desired_box_probabilities[i]\n",
    "        best_vol_diff, best_j = float('inf'), None\n",
    "        for j in remaining_box_indices:\n",
    "            if j == i:\n",
    "                continue\n",
    "            j_vol = desired_box_probabilities[j]\n",
    "            vol_mean = (j_vol + vol) / 2\n",
    "            vol_diff = abs(vol_mean - required_mean)\n",
    "            if vol_diff < best_vol_diff:\n",
    "                best_vol_diff = vol_diff\n",
    "                best_j = j\n",
    "        best_vol = desired_box_probabilities[best_j]\n",
    "        if best_vol > vol:\n",
    "            chosen_hi = best_j\n",
    "            chosen_lo = i\n",
    "            shift_amount_p = ((best_vol - required_mean) + (required_mean - vol)) / 2\n",
    "        else:\n",
    "            chosen_hi = i\n",
    "            chosen_lo = best_j\n",
    "            shift_amount_p = ((vol - required_mean) + (required_mean - best_vol)) / 2\n",
    "        assert desired_box_probabilities[chosen_hi] >= desired_box_probabilities[chosen_lo]\n",
    "        assert shift_amount_p >= 0\n",
    "        if shift_amount_p > no_shift_threshold:      # <- Checks if we even need to shift\n",
    "            if abs(n_boxes * shift_amount_p) <= 1.0: # <- Checks if we can shift\n",
    "                shifts.append(Shift(chosen_hi, chosen_lo, shift_amount_p))\n",
    "        remaining_box_indices.pop(remaining_box_indices.index(i))\n",
    "        remaining_box_indices.pop(remaining_box_indices.index(best_j))\n",
    "    print(f\"[info]  ideal n_shifts = {len(shifts)}\")\n",
    "    shifts.sort(key=lambda shift: -shift.amount_pr)\n",
    "    shifts = shifts[:n_allowed_shifts]\n",
    "    n_shifts = len(shifts)\n",
    "    print(f\"[info] actual n_shifts = {n_shifts}\")\n",
    "    return n_shifts, shifts\n",
    "\n",
    "sizes_by_dim = {\n",
    "    \"X\": bits_x,\n",
    "    \"Y\": bits_y,\n",
    "    \"t\": bits_t,\n",
    "}\n",
    "\n",
    "def circ_index_to_start(blist: list[Box]) -> QCirc:\n",
    "    # Quantum registers\n",
    "    unary_index             = QReg(n_boxes     , name=\"unary_index\")\n",
    "    x_start                 = QReg(bits_x      , name=\"x_start\")\n",
    "    y_start                 = QReg(bits_y      , name=\"y_start\")\n",
    "    t_start                 = QReg(bits_t      , name=\"t_start\")\n",
    "    # Make dictionaries\n",
    "    starts_by_dim = {\n",
    "        \"X\": x_start,\n",
    "        \"Y\": y_start,\n",
    "        \"t\": t_start,\n",
    "    }\n",
    "    # Create circuit object\n",
    "    qc = QuantumCircuit(unary_index, x_start, y_start, t_start, name=\"index_to_start\")\n",
    "    # Actual operation\n",
    "    for i in range(n_boxes):\n",
    "        for dim in \"XYt\":\n",
    "            bits = blist[i].get_start_as_bits(dim)\n",
    "            for j in range(sizes_by_dim[dim]):\n",
    "                if bits[j]:\n",
    "                    qc.cx(unary_index[i], starts_by_dim[dim][j])\n",
    "    return qc\n",
    "\n",
    "def circ_index_to_offset(blist: list[Box]) -> QCirc:\n",
    "    # Quantum registers\n",
    "    unary_index             = QReg(n_boxes     , name=\"unary_index\")\n",
    "    x_offset                = QReg(bits_x      , name=\"x_start\")\n",
    "    y_offset                = QReg(bits_y      , name=\"y_start\")\n",
    "    t_offset                = QReg(bits_t      , name=\"t_start\")\n",
    "    # Make dictionaries\n",
    "    offsets_by_dim = {\n",
    "        \"X\": x_offset,\n",
    "        \"Y\": y_offset,\n",
    "        \"t\": t_offset,\n",
    "    }\n",
    "    # Create circuit object\n",
    "    qc = QuantumCircuit(unary_index, x_offset, y_offset, t_offset, name=\"index_to_offset\")\n",
    "    # Actual operation\n",
    "    for i in range(n_boxes):\n",
    "        for dim in \"XYt\":\n",
    "            n_bits = blist[i].get_n_offset_bits_by_dim(dim)\n",
    "            counter = 0\n",
    "            for j in range(0, sizes_by_dim[dim]):\n",
    "                if counter >= n_bits:\n",
    "                    break\n",
    "                qc.ch(unary_index[i], offsets_by_dim[dim][j])\n",
    "                counter += 1\n",
    "    return qc\n",
    "\n",
    "def circ_sample_box() -> QCirc:\n",
    "    # Quantum registers\n",
    "    x_start                 = QReg(bits_x      , name=\"x_start\")\n",
    "    x_offset                = QReg(bits_x      , name=\"x_offset\")\n",
    "    y_start                 = QReg(bits_y      , name=\"y_start\")\n",
    "    y_offset                = QReg(bits_y      , name=\"y_offset\")\n",
    "    t_start                 = QReg(bits_t      , name=\"t_start\")\n",
    "    t_offset                = QReg(bits_t      , name=\"t_offset\")\n",
    "    addition_help           = QReg(3           , name=\"addition_help\")\n",
    "    # Dictionaries\n",
    "    starts_by_dim = {\n",
    "        \"X\": x_start,\n",
    "        \"Y\": y_start,\n",
    "        \"t\": t_start,\n",
    "    }\n",
    "    offsets_by_dim = {\n",
    "        \"X\": x_offset,\n",
    "        \"Y\": y_offset,\n",
    "        \"t\": t_offset,\n",
    "    }\n",
    "    # Create circuit object\n",
    "    qc = QuantumCircuit(\n",
    "        x_start, x_offset,\n",
    "        y_start, y_offset,\n",
    "        t_start, t_offset,\n",
    "        addition_help,\n",
    "        name=\"sample_box\",\n",
    "    )\n",
    "    # Operations (additions in this case)\n",
    "    for dim_i, dim in enumerate(\"XYt\"):\n",
    "        qc.append(CDKMRippleCarryAdder(sizes_by_dim[dim], kind=\"fixed\"), [\n",
    "            *starts_by_dim[dim], *offsets_by_dim[dim], addition_help[dim_i],\n",
    "        ])\n",
    "    return qc\n",
    "\n",
    "# Now, for the overall quantum circuit for a single timeslice\n",
    "def circ_main_once(blist: list[Box], just_prepare_box_index: bool = False) -> QInstr | int:\n",
    "    n_shifts, shifts = calculate_shifts(blist)\n",
    "    # Let's first make all the necessary registers\n",
    "    # First the quantum ones\n",
    "    unweighted_binary_index = QReg(log2_n_boxes, name=\"unweighted_binary_index\")\n",
    "    unary_index             = QReg(n_boxes     , name=\"unary_index\")\n",
    "    index_distribution      = QReg(n_shifts    , name=\"index_distribution\")\n",
    "    index_distribution_help = QReg(n_shifts    , name=\"index_distribution_help\")\n",
    "    x_start                 = QReg(bits_x      , name=\"x_start\")\n",
    "    x_offset                = QReg(bits_x      , name=\"x_offset\")\n",
    "    y_start                 = QReg(bits_y      , name=\"y_start\")\n",
    "    y_offset                = QReg(bits_y      , name=\"y_offset\")\n",
    "    t_start                 = QReg(bits_t      , name=\"t_start\")\n",
    "    t_offset                = QReg(bits_t      , name=\"t_offset\")\n",
    "    addition_help           = QReg(3           , name=\"addition_help\")\n",
    "    # Create a circuit object\n",
    "    if just_prepare_box_index:\n",
    "        qc = QuantumCircuit(\n",
    "            unweighted_binary_index,\n",
    "            unary_index,\n",
    "            index_distribution,\n",
    "            index_distribution_help,\n",
    "            name=\"main_once\",\n",
    "        )\n",
    "    else:\n",
    "        qc = QuantumCircuit(\n",
    "            unweighted_binary_index,\n",
    "            unary_index,\n",
    "            index_distribution,\n",
    "            index_distribution_help,\n",
    "            x_start, x_offset,\n",
    "            y_start, y_offset,\n",
    "            t_start, t_offset,\n",
    "            addition_help,\n",
    "            name=\"main_once\",\n",
    "        )\n",
    "    # There are four main steps:\n",
    "    # 1. Prepare a weighted superposition of unary box index states\n",
    "    qc.append(make_instr_show_depth(circ_prepare_box_index(n_shifts, shifts, [ box.volume() for box in blist ])), [\n",
    "        *unweighted_binary_index, *unary_index,\n",
    "        *index_distribution, *index_distribution_help,\n",
    "    ])\n",
    "    if just_prepare_box_index:\n",
    "        return n_shifts, qc.to_instruction()\n",
    "    # 2. Transform this into a superposition of possible starting points\n",
    "    qc.append(make_instr_show_depth(circ_index_to_start(blist)), [*unary_index, *x_start, *y_start, *t_start])\n",
    "    # 3. Transform this into a superposition of offsets\n",
    "    qc.append(make_instr_show_depth(circ_index_to_offset(blist)), [*unary_index, *x_offset, *y_offset, *t_offset])\n",
    "    # 4. Add the starting points to the offsets, arriving at a superposition of points\n",
    "    qc.append(make_instr_show_depth(circ_sample_box()), [\n",
    "        *x_start, *x_offset,\n",
    "        *y_start, *y_offset,\n",
    "        *t_start, *t_offset,\n",
    "        *addition_help,\n",
    "    ])\n",
    "    # Return the circuit as an instruction\n",
    "    return n_shifts, qc.to_instruction()\n",
    "\n",
    "def qc_main():\n",
    "    just_prepare_box_index = False\n",
    "    n_shifts_fst, main_once_fst = circ_main_once(boxes_fst, just_prepare_box_index=just_prepare_box_index)\n",
    "    n_shifts_snd, main_once_snd = circ_main_once(boxes_snd, just_prepare_box_index=just_prepare_box_index)\n",
    "    q_fst = QReg(main_once_fst.num_qubits)\n",
    "    q_snd = QReg(main_once_snd.num_qubits)\n",
    "    if just_prepare_box_index:\n",
    "        fst_unary_out = CReg(n_boxes, name=\"fst_unary_out\")\n",
    "        snd_unary_out = CReg(n_boxes, name=\"snd_unary_out\")\n",
    "        qc = QuantumCircuit(\n",
    "            q_fst, q_snd,\n",
    "            fst_unary_out, snd_unary_out,\n",
    "            name=\"main\",\n",
    "        )\n",
    "    else:\n",
    "        fst_x_out                   = CReg(bits_x, name=\"fst_x_out\")\n",
    "        fst_y_out                   = CReg(bits_y, name=\"fst_y_out\")\n",
    "        fst_t_out                   = CReg(bits_t, name=\"fst_t_out\")\n",
    "        snd_x_out                   = CReg(bits_x, name=\"snd_x_out\")\n",
    "        snd_y_out                   = CReg(bits_y, name=\"snd_y_out\")\n",
    "        snd_t_out                   = CReg(bits_t, name=\"snd_t_out\")\n",
    "        qc = QuantumCircuit(\n",
    "            q_fst, q_snd,\n",
    "            fst_x_out, fst_y_out, fst_t_out,\n",
    "            snd_x_out, snd_y_out, snd_t_out,\n",
    "            name=\"main\",\n",
    "        )\n",
    "    qc.append(main_once_fst, q_fst)\n",
    "    qc.append(main_once_snd, q_snd)\n",
    "    if just_prepare_box_index:\n",
    "        qc.measure(q_fst[log2_n_boxes:(log2_n_boxes+n_boxes)], fst_unary_out)\n",
    "        qc.measure(q_snd[log2_n_boxes:(log2_n_boxes+n_boxes)], snd_unary_out)\n",
    "    else:\n",
    "        xyt_offset = log2_n_boxes + n_boxes + n_shifts_fst + n_shifts_fst\n",
    "        cursor = xyt_offset\n",
    "        cursor += bits_x\n",
    "        qc.measure(q_fst[cursor:(cursor := cursor + bits_x)], fst_x_out)\n",
    "        cursor += bits_y\n",
    "        qc.measure(q_fst[cursor:(cursor := cursor + bits_y)], fst_y_out)\n",
    "        cursor += bits_t\n",
    "        qc.measure(q_fst[cursor:(cursor := cursor + bits_t)], fst_t_out)\n",
    "        cursor += 3\n",
    "        assert cursor == main_once_fst.num_qubits\n",
    "        xyt_offset = log2_n_boxes + n_boxes + n_shifts_snd + n_shifts_snd\n",
    "        cursor = xyt_offset\n",
    "        cursor += bits_x\n",
    "        qc.measure(q_snd[cursor:(cursor := cursor + bits_x)], snd_x_out)\n",
    "        cursor += bits_y\n",
    "        qc.measure(q_snd[cursor:(cursor := cursor + bits_y)], snd_y_out)\n",
    "        cursor += bits_t\n",
    "        qc.measure(q_snd[cursor:(cursor := cursor + bits_t)], snd_t_out)\n",
    "        cursor += 3\n",
    "        assert cursor == main_once_snd.num_qubits\n",
    "    return qc"
   ]
  },
  {
   "cell_type": "code",
   "execution_count": 74,
   "id": "c6d53376-1eeb-41d7-ab90-674f267d06c2",
   "metadata": {
    "tags": []
   },
   "outputs": [
    {
     "name": "stdout",
     "output_type": "stream",
     "text": [
      "[info]  ideal n_shifts = 1\n",
      "[info] actual n_shifts = 1\n",
      "[info] [depth-of] prepare_box_index -> 54\n",
      "[info] [depth-of] index_to_start -> 16\n",
      "[info] [depth-of] index_to_offset -> 59\n",
      "[info] [depth-of] sample_box -> 121\n",
      "[info]  ideal n_shifts = 2\n",
      "[info] actual n_shifts = 2\n",
      "[info] [depth-of] prepare_box_index -> 63\n",
      "[info] [depth-of] index_to_start -> 11\n",
      "[info] [depth-of] index_to_offset -> 61\n",
      "[info] [depth-of] sample_box -> 121\n"
     ]
    },
    {
     "data": {
      "text/plain": [
       "86"
      ]
     },
     "execution_count": 74,
     "metadata": {},
     "output_type": "execute_result"
    }
   ],
   "source": [
    "main = qc_main()\n",
    "main.num_qubits"
   ]
  },
  {
   "cell_type": "code",
   "execution_count": 75,
   "id": "a83a60c4-dd83-40fa-b8a6-0d0809b84934",
   "metadata": {
    "tags": []
   },
   "outputs": [
    {
     "data": {
      "text/plain": [
       "237"
      ]
     },
     "execution_count": 75,
     "metadata": {},
     "output_type": "execute_result"
    }
   ],
   "source": [
    "decomposed = main\n",
    "for i in range(10):\n",
    "    decomposed = decomposed.decompose()\n",
    "decomposed.depth()"
   ]
  },
  {
   "cell_type": "code",
   "execution_count": 76,
   "id": "d2ab8f4c-d0c6-473c-b61d-38bf50a08f0e",
   "metadata": {
    "tags": []
   },
   "outputs": [
    {
     "name": "stdout",
     "output_type": "stream",
     "text": [
      "Getting backend object...\n",
      "Transpiling...\n",
      "Transpiled, resulting circuit depth is 3125\n"
     ]
    }
   ],
   "source": [
    "print(\"Getting backend object...\")\n",
    "brisbane = [ i for i in service.backends() if i.name == \"ibm_brisbane\" ][0]\n",
    "print(\"Transpiling...\")\n",
    "transpiled_main = transpile(main, brisbane)\n",
    "print(f\"Transpiled, resulting circuit depth is {transpiled_main.depth()}\")"
   ]
  },
  {
   "cell_type": "code",
   "execution_count": 25,
   "id": "9056a35c-875f-46bb-a9e3-2b1cf6d08fbe",
   "metadata": {
    "tags": []
   },
   "outputs": [],
   "source": [
    "n_shots = 2048\n",
    "simulation_result = simulate_quantum_circuit(main, shots=n_shots)"
   ]
  },
  {
   "cell_type": "code",
   "execution_count": 28,
   "id": "5bdded4e-135d-4e0e-98ff-03bdea3ec220",
   "metadata": {
    "tags": []
   },
   "outputs": [
    {
     "name": "stdout",
     "output_type": "stream",
     "text": [
      "100.000% OK\n"
     ]
    }
   ],
   "source": [
    "def binstr2dec(s: str):\n",
    "    # Yes, this is a mind-bogglingy stupid way to do this\n",
    "    # And an unsafe one at that\n",
    "    # Hopelessly inefficient too\n",
    "    # Unfortunately it's 11 P.M. and I don't care\n",
    "    return eval(f'0b{s}')\n",
    "\n",
    "def get_coords_from_result(result_keys: list[str]) -> (list[int], list[int], list[int]):\n",
    "    xs, ys, ts = [], [], []\n",
    "    for key in result_keys:\n",
    "        t_snd, y_snd, x_snd, t_fst, y_fst, x_fst = key.split()\n",
    "        xs.append(binstr2dec(x_fst))\n",
    "        ys.append(binstr2dec(y_fst))\n",
    "        ts.append(binstr2dec(t_fst))\n",
    "        xs.append(binstr2dec(x_snd))\n",
    "        ys.append(binstr2dec(y_snd))\n",
    "        ts.append(binstr2dec(t_snd) + (1 << bits_t))\n",
    "    return xs, ys, ts\n",
    "\n",
    "result = simulation_result\n",
    "proportion_noise_threshold = 0.05\n",
    "coords = get_coords_from_result(result.keys())\n",
    "good, total = 0, 0\n",
    "for i in zip(*coords):\n",
    "    if i[2] >= (1 << bits_t):\n",
    "        ok = box_union_contains_point(boxes_snd, (\n",
    "            i[0], i[1], i[2] - (1 << bits_t),\n",
    "        ))\n",
    "    else:\n",
    "        ok = box_union_contains_point(boxes_fst, i)\n",
    "    good += 1 if ok else 0\n",
    "    total += 1\n",
    "print(f'{(good/total)*100:.3f}% OK')"
   ]
  },
  {
   "cell_type": "code",
   "execution_count": 32,
   "id": "2413b816-6cb1-49dc-8436-a62bc3bf1bc4",
   "metadata": {
    "tags": []
   },
   "outputs": [
    {
     "data": {
      "image/png": "[encoded data removed]",
      "text/plain": [
       "<Figure size 640x480 with 1 Axes>"
      ]
     },
     "metadata": {},
     "output_type": "display_data"
    }
   ],
   "source": [
    "xy_by_time  = [ ([], []) for _ in range(2*(1 << bits_t)) ]\n",
    "for x, y, t in zip(*coords):\n",
    "    xy_by_time[t][0].append(x)\n",
    "    xy_by_time[t][1].append(y)\n",
    "fig, ax = plt.subplots()\n",
    "ax.set_xlim(0, 1 << bits_x)\n",
    "ax.set_ylim(0, 1 << bits_y)\n",
    "scatter = ax.scatter(*xy_by_time[0][::-1])\n",
    "def scatter_ani_draw(frame):\n",
    "    arr = np.vstack([\n",
    "        np.array(xy_by_time[frame][1]),\n",
    "        np.array(xy_by_time[frame][0])\n",
    "    ]).T\n",
    "    if arr.size > 0:\n",
    "        scatter.set_offsets(arr)\n",
    "    else:\n",
    "        scatter.set_offsets(np.array([0, 0]))\n",
    "    return (scatter,)\n",
    "scatter_ani = mpl_animation.FuncAnimation(fig, scatter_ani_draw, frames=2*(1 << bits_t), interval=(1000//7), blit=True)\n",
    "scatter_ani.save(\"output.gif\", writer=\"pillow\")"
   ]
  }
 ],
 "metadata": {
  "kernelspec": {
   "display_name": "Python 3 (ipykernel)",
   "language": "python",
   "name": "python3"
  },
  "language_info": {
   "codemirror_mode": {
    "name": "ipython",
    "version": 3
   },
   "file_extension": ".py",
   "mimetype": "text/x-python",
   "name": "python",
   "nbconvert_exporter": "python",
   "pygments_lexer": "ipython3",
   "version": "3.10.8"
  },
  "widgets": {
   "application/vnd.jupyter.widget-state+json": {
    "state": {
     "0f51105789a541cf83ef9edafc7a20fa": {
      "model_module": "@jupyter-widgets/controls",
      "model_module_version": "2.0.0",
      "model_name": "HTMLStyleModel",
      "state": {
       "description_width": "",
       "font_size": null,
       "text_color": null
      }
     },
     "0ff23a34560a4a7985cc777b5b0c5e3e": {
      "model_module": "@jupyter-widgets/base",
      "model_module_version": "2.0.0",
      "model_name": "LayoutModel",
      "state": {
       "width": "70px"
      }
     },
     "1baa8a796bdb496f907e9ecb8b017dcc": {
      "model_module": "@jupyter-widgets/base",
      "model_module_version": "2.0.0",
      "model_name": "LayoutModel",
      "state": {
       "width": "145px"
      }
     },
     "27d1f13b20b148b68d1ecd2caac2fc72": {
      "model_module": "@jupyter-widgets/base",
      "model_module_version": "2.0.0",
      "model_name": "LayoutModel",
      "state": {
       "grid_template_areas": "\n                                       \". . . . right \"\n                                        ",
       "grid_template_columns": "20% 20% 20% 20% 20%",
       "width": "100%"
      }
     },
     "2b312b382622493a8b0e85117d9e6669": {
      "model_module": "@jupyter-widgets/controls",
      "model_module_version": "2.0.0",
      "model_name": "HTMLStyleModel",
      "state": {
       "description_width": "",
       "font_size": null,
       "text_color": null
      }
     },
     "3ea7432932aa4473aa86b7d12d41ad2f": {
      "model_module": "@jupyter-widgets/controls",
      "model_module_version": "2.0.0",
      "model_name": "HTMLStyleModel",
      "state": {
       "description_width": "",
       "font_size": null,
       "text_color": null
      }
     },
     "6ce8617e73ad4d1794e95ede993eeaf9": {
      "model_module": "@jupyter-widgets/controls",
      "model_module_version": "2.0.0",
      "model_name": "HTMLModel",
      "state": {
       "layout": "IPY_MODEL_1baa8a796bdb496f907e9ecb8b017dcc",
       "style": "IPY_MODEL_0f51105789a541cf83ef9edafc7a20fa",
       "value": "<h5>Backend</h5>"
      }
     },
     "7bc737ebbaf54527a2edd712f345a1ca": {
      "model_module": "@jupyter-widgets/controls",
      "model_module_version": "2.0.0",
      "model_name": "ButtonStyleModel",
      "state": {
       "font_family": null,
       "font_size": null,
       "font_style": null,
       "font_variant": null,
       "font_weight": null,
       "text_color": null,
       "text_decoration": null
      }
     },
     "7ce2dc6029e54a86996035c8863316dd": {
      "model_module": "@jupyter-widgets/controls",
      "model_module_version": "2.0.0",
      "model_name": "HTMLStyleModel",
      "state": {
       "description_width": "",
       "font_size": null,
       "text_color": null
      }
     },
     "80686cc90fa84fb8b9993706de0714ee": {
      "model_module": "@jupyter-widgets/controls",
      "model_module_version": "2.0.0",
      "model_name": "ButtonModel",
      "state": {
       "button_style": "primary",
       "description": "Clear",
       "layout": "IPY_MODEL_94e7f175419f475e9cefa8a0e8413fc0",
       "style": "IPY_MODEL_7bc737ebbaf54527a2edd712f345a1ca",
       "tooltip": null
      }
     },
     "81bb1f9b72f747628b00a1cccfec7508": {
      "model_module": "@jupyter-widgets/base",
      "model_module_version": "2.0.0",
      "model_name": "LayoutModel",
      "state": {
       "margin": "0px 0px 10px 0px"
      }
     },
     "8b3c0852521b4d0885e57a926b0ff72a": {
      "model_module": "@jupyter-widgets/controls",
      "model_module_version": "2.0.0",
      "model_name": "HTMLModel",
      "state": {
       "layout": "IPY_MODEL_fd236173e23444cbb0399f7ee8681371",
       "style": "IPY_MODEL_8b9492e10b494cfcabe191feb3eac0fb",
       "value": "<h5>Job ID</h5>"
      }
     },
     "8b9492e10b494cfcabe191feb3eac0fb": {
      "model_module": "@jupyter-widgets/controls",
      "model_module_version": "2.0.0",
      "model_name": "HTMLStyleModel",
      "state": {
       "description_width": "",
       "font_size": null,
       "text_color": null
      }
     },
     "8c28bb7b2e1942d38e1ed865e2fa1310": {
      "model_module": "@jupyter-widgets/controls",
      "model_module_version": "2.0.0",
      "model_name": "HTMLModel",
      "state": {
       "layout": "IPY_MODEL_e9e283eec0324bdfb2c8b82a5c74bb49",
       "style": "IPY_MODEL_7ce2dc6029e54a86996035c8863316dd",
       "value": "<h5>Message</h5>"
      }
     },
     "94e7f175419f475e9cefa8a0e8413fc0": {
      "model_module": "@jupyter-widgets/base",
      "model_module_version": "2.0.0",
      "model_name": "LayoutModel",
      "state": {
       "grid_area": "right",
       "padding": "0px 0px 0px 0px",
       "width": "70px"
      }
     },
     "96bc4bdca3ad45ada92f93045474b41d": {
      "model_module": "@jupyter-widgets/controls",
      "model_module_version": "2.0.0",
      "model_name": "HTMLStyleModel",
      "state": {
       "description_width": "",
       "font_size": null,
       "text_color": null
      }
     },
     "b6162c5116ea4e0f817b769aeb9ae5c3": {
      "model_module": "@jupyter-widgets/base",
      "model_module_version": "2.0.0",
      "model_name": "LayoutModel",
      "state": {
       "margin": "0px 0px 0px 37px",
       "width": "600px"
      }
     },
     "d687701342564029b50489557f4ad63d": {
      "model_module": "@jupyter-widgets/controls",
      "model_module_version": "2.0.0",
      "model_name": "HTMLModel",
      "state": {
       "layout": "IPY_MODEL_0ff23a34560a4a7985cc777b5b0c5e3e",
       "style": "IPY_MODEL_2b312b382622493a8b0e85117d9e6669",
       "value": "<h5>Queue</h5>"
      }
     },
     "d944a83bc4214a0092835b82bc18b97f": {
      "model_module": "@jupyter-widgets/controls",
      "model_module_version": "2.0.0",
      "model_name": "HTMLModel",
      "state": {
       "layout": "IPY_MODEL_81bb1f9b72f747628b00a1cccfec7508",
       "style": "IPY_MODEL_3ea7432932aa4473aa86b7d12d41ad2f",
       "value": "<p style='font-family: IBM Plex Sans, Arial, Helvetica, sans-serif; font-size: 20px; font-weight: medium;'>Circuit Properties</p>"
      }
     },
     "dcdaf066f8034da5b2748c3775b2fb1c": {
      "model_module": "@jupyter-widgets/base",
      "model_module_version": "2.0.0",
      "model_name": "LayoutModel",
      "state": {
       "width": "95px"
      }
     },
     "e9e283eec0324bdfb2c8b82a5c74bb49": {
      "model_module": "@jupyter-widgets/base",
      "model_module_version": "2.0.0",
      "model_name": "LayoutModel",
      "state": {}
     },
     "ef23a209edde44ba8d97ee1ac37eb91a": {
      "model_module": "@jupyter-widgets/controls",
      "model_module_version": "2.0.0",
      "model_name": "HBoxModel",
      "state": {
       "children": [
        "IPY_MODEL_8b3c0852521b4d0885e57a926b0ff72a",
        "IPY_MODEL_6ce8617e73ad4d1794e95ede993eeaf9",
        "IPY_MODEL_f333b53927694cbab48eada85ef8ca6b",
        "IPY_MODEL_d687701342564029b50489557f4ad63d",
        "IPY_MODEL_8c28bb7b2e1942d38e1ed865e2fa1310"
       ],
       "layout": "IPY_MODEL_b6162c5116ea4e0f817b769aeb9ae5c3"
      }
     },
     "f333b53927694cbab48eada85ef8ca6b": {
      "model_module": "@jupyter-widgets/controls",
      "model_module_version": "2.0.0",
      "model_name": "HTMLModel",
      "state": {
       "layout": "IPY_MODEL_dcdaf066f8034da5b2748c3775b2fb1c",
       "style": "IPY_MODEL_96bc4bdca3ad45ada92f93045474b41d",
       "value": "<h5>Status</h5>"
      }
     },
     "f8344ff7c0e9474eb9ec87a66763cc11": {
      "model_module": "@jupyter-widgets/controls",
      "model_module_version": "2.0.0",
      "model_name": "GridBoxModel",
      "state": {
       "children": [
        "IPY_MODEL_80686cc90fa84fb8b9993706de0714ee"
       ],
       "layout": "IPY_MODEL_27d1f13b20b148b68d1ecd2caac2fc72"
      }
     },
     "fd236173e23444cbb0399f7ee8681371": {
      "model_module": "@jupyter-widgets/base",
      "model_module_version": "2.0.0",
      "model_name": "LayoutModel",
      "state": {
       "width": "190px"
      }
     }
    },
    "version_major": 2,
    "version_minor": 0
   }
  }
 },
 "nbformat": 4,
 "nbformat_minor": 5
}
