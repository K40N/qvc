{
 "cells": [
  {
   "cell_type": "code",
   "execution_count": 24,
   "id": "b8fa954f-dab1-47a8-88d8-3bc9c9132eac",
   "metadata": {
    "tags": []
   },
   "outputs": [
    {
     "name": "stdout",
     "output_type": "stream",
     "text": [
      "qiskit-imports, qiskit-runtime-service, misc-imports, and helper-functions have been loaded. \n",
      "all loaded.\n"
     ]
    },
    {
     "data": {
      "text/plain": [
       "<Figure size 640x480 with 0 Axes>"
      ]
     },
     "metadata": {},
     "output_type": "display_data"
    }
   ],
   "source": [
    "%matplotlib inline\n",
    "%run -i qiskit_prelude.py\n",
    "import random\n",
    "import matplotlib.pyplot as plt\n",
    "import matplotlib.animation as mpl_animation\n",
    "QCirc, QInstr, QReg, CReg = QuantumCircuit, Instruction, QuantumRegister, ClassicalRegister\n",
    "print(\"all loaded.\")"
   ]
  },
  {
   "cell_type": "code",
   "execution_count": 54,
   "id": "9678e20c-5bcf-4e59-9479-e082cdade885",
   "metadata": {
    "tags": []
   },
   "outputs": [],
   "source": [
    "boxes = [\n",
    "    Box(2, 10, 0, 4, 4, 2),\n",
    "    Box(20, 20, 0, 2, 2, 2),\n",
    "    Box(2, 2, 4, 2, 1, 3),\n",
    "    Box(8, 4, 4, 2, 1, 3),\n",
    "]"
   ]
  },
  {
   "cell_type": "code",
   "execution_count": 56,
   "id": "bd8e4c78-d290-4d99-8676-674bcf06d53e",
   "metadata": {
    "tags": []
   },
   "outputs": [
    {
     "name": "stdout",
     "output_type": "stream",
     "text": [
      "Requires 39 qubits for each parallel run.\n"
     ]
    }
   ],
   "source": [
    "# Set how many bits we are going to use to represent X, Y, and t coordinates\n",
    "bits_x = 5\n",
    "bits_y = 5\n",
    "bits_t = 4\n",
    "\n",
    "# Set how many boxes there are:\n",
    "log2_n_boxes = 2\n",
    "n_boxes = 1 << log2_n_boxes\n",
    "\n",
    "# Convert a positive integer into bits, erroring on overflow\n",
    "def as_bits(n_orig: int, bits: int):\n",
    "    n = n_orig\n",
    "    result = []\n",
    "    for i in range(bits - 1, -1, -1):\n",
    "        power = 1 << i\n",
    "        if n >= power:\n",
    "            n -= power\n",
    "            result.append(True)\n",
    "        else:\n",
    "            result.append(False)\n",
    "    if n != 0:\n",
    "        raise RuntimeError(\"Overflow (or logic error) in as_bits.\")\n",
    "    return result[::-1]\n",
    "\n",
    "assert as_bits(23, 5)[::-1] == [True, False, True, True, True]\n",
    "\n",
    "@dataclass(frozen=True)\n",
    "class Box:\n",
    "    x:      int\n",
    "    y:      int\n",
    "    t:      int\n",
    "    log2_w: int # w = width (X)\n",
    "    log2_h: int # h = height (Y)\n",
    "    log2_d: int # d = duration (t)\n",
    "    \n",
    "    def volume(self) -> int:\n",
    "        return (2**self.log2_w) + (2**self.log2_h) + (2**self.log2_d)\n",
    "    \n",
    "    def get_start_as_bits(self, which: str):\n",
    "        if   which == \"X\":\n",
    "            return as_bits(self.x, bits_x)\n",
    "        elif which == \"Y\":\n",
    "            return as_bits(self.y, bits_y)\n",
    "        elif which == \"t\":\n",
    "            return as_bits(self.t, bits_t)\n",
    "        else:\n",
    "            raise RuntimeError(\"Which dimension (for start) must be X, Y, or t.\")\n",
    "    \n",
    "    def get_n_offset_bits_by_dim(self, which: str):\n",
    "        if   which == \"X\":\n",
    "            return self.log2_w\n",
    "        elif which == \"Y\":\n",
    "            return self.log2_h\n",
    "        elif which == \"t\":\n",
    "            return self.log2_d\n",
    "        else:\n",
    "            raise RuntimeError(\"Which dimension (for offset) must be X, Y, or t.\")\n",
    "\n",
    "    def contains_point(self, qx: int, qy: int, qt: int):\n",
    "        x_ok = ((qx - self.x) >= 0) and ((qx - self.x) <= (1 << self.log2_w))\n",
    "        y_ok = ((qy - self.y) >= 0) and ((qy - self.y) <= (1 << self.log2_h))\n",
    "        t_ok = ((qt - self.t) >= 0) and ((qt - self.t) <= (1 << self.log2_d))\n",
    "        return x_ok and y_ok and t_ok\n",
    "\n",
    "def box_union_contains_point(box_union_of: list[Box], xyt: (int, int, int)):\n",
    "    x, y, t = xyt\n",
    "    for box in box_union_of:\n",
    "        if box.contains_point(x, y, t):\n",
    "            return True\n",
    "    return False\n",
    "\n",
    "@dataclass(frozen=True)\n",
    "class Shift:\n",
    "    qubit_index_a: int\n",
    "    qubit_index_b: int\n",
    "    amount_pr: float\n",
    "    \n",
    "    def ry_angle(self):\n",
    "        return 2 * asin(sqrt(n_boxes * self.amount_pr))\n",
    "\n",
    "def circ_prepare_box_index(box_volumes: list[int]) -> QInstr:\n",
    "    # Set up our quantum registers\n",
    "    unweighted_binary_index = QReg(log2_n_boxes)\n",
    "    unary_index             = QReg(n_boxes)\n",
    "    index_distribution      = QReg(n_shifts)\n",
    "    index_distribution_help = QReg(n_shifts)\n",
    "    # Create a circuit object\n",
    "    qc = QuantumCircuit(\n",
    "        unweighted_binary_index, unary_index,\n",
    "        index_distribution, index_distribution_help,\n",
    "        name=\"prepare_box_index\",\n",
    "    )\n",
    "    # First, we put the unweighted_binary register into a basic, uniform superposition\n",
    "    qc.h(unweighted_binary_index)\n",
    "    # Then, we convert this into an unary index\n",
    "    qc.append(circ_binary_to_unary(n_boxes, log2_n_boxes), [*unweighted_binary_index, *unary_index])\n",
    "    # Then, we can weight the unary part (not perfectly, but nothing about this is anywhere close to perfect)\n",
    "    qc.append(circ_weight_unary(box_volumes), [*unary_index, *index_distribution, *index_distribution_help])\n",
    "    # Return the circuit as an instruction\n",
    "    return qc.to_instruction()\n",
    "\n",
    "def circ_binary_to_unary(n: int, log2_n: int) -> QInstr:\n",
    "    # Set up our quantum registers\n",
    "    binary = QReg(log2_n)\n",
    "    unary  = QReg(n)\n",
    "    # Create a circuit object\n",
    "    qc = QuantumCircuit(binary, unary, name=\"binary_to_unary\")\n",
    "    # First, we appropriately entangle the first two unary digits\n",
    "    qc.cx(binary[0], unary[1])\n",
    "    qc.x(binary[0])\n",
    "    qc.cx(binary[0], unary[0])\n",
    "    # Now, we can use a series of CSWAP gates to move the unary digits around\n",
    "    n_processed = 2\n",
    "    for i in range(1, log2_n):\n",
    "        for j in range(n_processed):\n",
    "            qc.cswap(binary[i], unary[j], unary[j + n_processed])\n",
    "        n_processed *= 2\n",
    "    # Return the circuit as an instruction\n",
    "    return qc.to_instruction()\n",
    "\n",
    "def circ_weight_unary(box_volumes: list[int]) -> QInstr:\n",
    "    # Set up our quantum registers\n",
    "    unary                   = QReg(n_boxes)\n",
    "    index_distribution      = QReg(n_shifts)\n",
    "    index_distribution_help = QReg(n_shifts)\n",
    "    # Create a circuit object\n",
    "    qc = QuantumCircuit(unary, index_distribution, index_distribution_help, name=\"weight_unary\")\n",
    "    # Perform the necessary shifts\n",
    "    for i, shift in enumerate(shifts):\n",
    "        qc.ry(shift.ry_angle(), index_distribution[i])\n",
    "        qc.ccx(unary[shift.qubit_index_b], index_distribution[i], index_distribution_help[i])\n",
    "        qc.cx(index_distribution_help[i], unary[shift.qubit_index_a])\n",
    "        qc.cx(index_distribution_help[i], unary[shift.qubit_index_b])\n",
    "    # Return the circuit as an instruction\n",
    "    return qc.to_instruction()\n",
    "\n",
    "box_volumes = [ box.volume() for box in boxes ]\n",
    "desired_box_probabilities = [ volume / sum(box_volumes) for volume in box_volumes ]\n",
    "assert len(boxes) == n_boxes\n",
    "\n",
    "# First, we need to preprocess the boxes, also giving us n_shifts\n",
    "no_shift_threshold = 0.08\n",
    "shifts = []\n",
    "required_mean = 1 / n_boxes\n",
    "box_indices = list(range(len(boxes)))\n",
    "remaining_box_indices = box_indices[:]\n",
    "random.shuffle(box_indices)\n",
    "for i in box_indices:\n",
    "    if i not in remaining_box_indices:\n",
    "        continue\n",
    "    vol = desired_box_probabilities[i]\n",
    "    best_vol_diff, best_j = float('inf'), None\n",
    "    for j in remaining_box_indices:\n",
    "        if j == i:\n",
    "            continue\n",
    "        j_vol = desired_box_probabilities[j]\n",
    "        vol_mean = (j_vol + vol) / 2\n",
    "        vol_diff = abs(vol_mean - required_mean)\n",
    "        if vol_diff < best_vol_diff:\n",
    "            best_vol_diff = vol_diff\n",
    "            best_j = j\n",
    "    best_vol = desired_box_probabilities[best_j]\n",
    "    if best_vol > vol:\n",
    "        chosen_hi = best_j\n",
    "        chosen_lo = i\n",
    "        shift_amount_p = ((best_vol - required_mean) + (required_mean - vol)) / 2\n",
    "    else:\n",
    "        chosen_hi = i\n",
    "        chosen_lo = best_j\n",
    "        shift_amount_p = ((vol - required_mean) + (required_mean - best_vol)) / 2\n",
    "    assert desired_box_probabilities[chosen_hi] >= desired_box_probabilities[chosen_lo]\n",
    "    assert shift_amount_p >= 0\n",
    "    if shift_amount_p > no_shift_threshold:      # <- Checks if we even need to shift\n",
    "        if abs(n_boxes * shift_amount_p) <= 1.0: # <- Checks if we can shift\n",
    "            shifts.append(Shift(chosen_hi, chosen_lo, shift_amount_p))\n",
    "    remaining_box_indices.pop(remaining_box_indices.index(i))\n",
    "    remaining_box_indices.pop(remaining_box_indices.index(best_j))\n",
    "n_shifts = len(shifts)\n",
    "shifts\n",
    "\n",
    "sizes_by_dim = {\n",
    "    \"X\": bits_x,\n",
    "    \"Y\": bits_y,\n",
    "    \"t\": bits_t,\n",
    "}\n",
    "\n",
    "def circ_index_to_start() -> QInstr:\n",
    "    # Quantum registers\n",
    "    unary_index             = QReg(n_boxes     , name=\"unary_index\")\n",
    "    x_start                 = QReg(bits_x      , name=\"x_start\")\n",
    "    y_start                 = QReg(bits_y      , name=\"y_start\")\n",
    "    t_start                 = QReg(bits_t      , name=\"t_start\")\n",
    "    # Make dictionaries\n",
    "    starts_by_dim = {\n",
    "        \"X\": x_start,\n",
    "        \"Y\": y_start,\n",
    "        \"t\": t_start,\n",
    "    }\n",
    "    # Create circuit object\n",
    "    qc = QuantumCircuit(unary_index, x_start, y_start, t_start, name=\"index_to_start\")\n",
    "    # Actual operation\n",
    "    for i in range(n_boxes):\n",
    "        for dim in \"XYt\":\n",
    "            bits = boxes[i].get_start_as_bits(dim)\n",
    "            for j in range(sizes_by_dim[dim]):\n",
    "                if bits[j]:\n",
    "                    qc.cx(unary_index[i], starts_by_dim[dim][j])\n",
    "    # Return instruction form\n",
    "    return qc.to_instruction()\n",
    "\n",
    "def circ_index_to_offset() -> QInstr:\n",
    "    # Quantum registers\n",
    "    unary_index             = QReg(n_boxes     , name=\"unary_index\")\n",
    "    x_offset                = QReg(bits_x      , name=\"x_start\")\n",
    "    y_offset                = QReg(bits_y      , name=\"y_start\")\n",
    "    t_offset                = QReg(bits_t      , name=\"t_start\")\n",
    "    # Make dictionaries\n",
    "    offsets_by_dim = {\n",
    "        \"X\": x_offset,\n",
    "        \"Y\": y_offset,\n",
    "        \"t\": t_offset,\n",
    "    }\n",
    "    # Create circuit object\n",
    "    qc = QuantumCircuit(unary_index, x_offset, y_offset, t_offset, name=\"index_to_offset\")\n",
    "    # Actual operation\n",
    "    for i in range(n_boxes):\n",
    "        for dim in \"XYt\":\n",
    "            n_bits = boxes[i].get_n_offset_bits_by_dim(dim)\n",
    "            counter = 0\n",
    "            for j in range(0, sizes_by_dim[dim]):\n",
    "                if counter >= n_bits:\n",
    "                    break\n",
    "                qc.ch(unary_index[i], offsets_by_dim[dim][j])\n",
    "                counter += 1\n",
    "    # Return instruction form\n",
    "    return qc.to_instruction()\n",
    "\n",
    "def circ_sample_box() -> QInstr:\n",
    "    # Quantum registers\n",
    "    x_start                 = QReg(bits_x      , name=\"x_start\")\n",
    "    x_offset                = QReg(bits_x      , name=\"x_offset\")\n",
    "    y_start                 = QReg(bits_y      , name=\"y_start\")\n",
    "    y_offset                = QReg(bits_y      , name=\"y_offset\")\n",
    "    t_start                 = QReg(bits_t      , name=\"t_start\")\n",
    "    t_offset                = QReg(bits_t      , name=\"t_offset\")\n",
    "    addition_help           = QReg(3           , name=\"addition_help\")\n",
    "    # Dictionaries\n",
    "    starts_by_dim = {\n",
    "        \"X\": x_start,\n",
    "        \"Y\": y_start,\n",
    "        \"t\": t_start,\n",
    "    }\n",
    "    offsets_by_dim = {\n",
    "        \"X\": x_offset,\n",
    "        \"Y\": y_offset,\n",
    "        \"t\": t_offset,\n",
    "    }\n",
    "    # Create circuit object\n",
    "    qc = QuantumCircuit(\n",
    "        x_start, x_offset,\n",
    "        y_start, y_offset,\n",
    "        t_start, t_offset,\n",
    "        addition_help,\n",
    "        name=\"sample_box\",\n",
    "    )\n",
    "    # Operations (additions in this case)\n",
    "    for dim_i, dim in enumerate(\"XYt\"):\n",
    "        qc.append(CDKMRippleCarryAdder(sizes_by_dim[dim], kind=\"fixed\"), [\n",
    "            *starts_by_dim[dim], *offsets_by_dim[dim], addition_help[dim_i],\n",
    "        ])\n",
    "    # Return instruction form\n",
    "    return qc.to_instruction()\n",
    "\n",
    "# Now, for the overall quantum circuit for a single timeslice\n",
    "def circ_main_once(just_prepare_box_index: bool = False) -> QInstr | int:\n",
    "    # Let's first make all the necessary registers\n",
    "    # First the quantum ones\n",
    "    unweighted_binary_index = QReg(log2_n_boxes, name=\"unweighted_binary_index\")\n",
    "    unary_index             = QReg(n_boxes     , name=\"unary_index\")\n",
    "    index_distribution      = QReg(n_shifts    , name=\"index_distribution\")\n",
    "    index_distribution_help = QReg(n_shifts    , name=\"index_distribution_help\")\n",
    "    x_start                 = QReg(bits_x      , name=\"x_start\")\n",
    "    x_offset                = QReg(bits_x      , name=\"x_offset\")\n",
    "    y_start                 = QReg(bits_y      , name=\"y_start\")\n",
    "    y_offset                = QReg(bits_y      , name=\"y_offset\")\n",
    "    t_start                 = QReg(bits_t      , name=\"t_start\")\n",
    "    t_offset                = QReg(bits_t      , name=\"t_offset\")\n",
    "    addition_help           = QReg(3           , name=\"addition_help\")\n",
    "    # Create a circuit object\n",
    "    if just_prepare_box_index:\n",
    "        qc = QuantumCircuit(\n",
    "            unweighted_binary_index,\n",
    "            unary_index,\n",
    "            index_distribution,\n",
    "            index_distribution_help,\n",
    "            name=\"main_once\",\n",
    "        )\n",
    "    else:\n",
    "        qc = QuantumCircuit(\n",
    "            unweighted_binary_index,\n",
    "            unary_index,\n",
    "            index_distribution,\n",
    "            index_distribution_help,\n",
    "            x_start, x_offset,\n",
    "            y_start, y_offset,\n",
    "            t_start, t_offset,\n",
    "            addition_help,\n",
    "            name=\"main_once\",\n",
    "        )\n",
    "    # There are four main steps:\n",
    "    # 1. Prepare a weighted superposition of unary box index states\n",
    "    qc.append(circ_prepare_box_index([ box.volume() for box in boxes ]), [\n",
    "        *unweighted_binary_index, *unary_index,\n",
    "        *index_distribution, *index_distribution_help,\n",
    "    ])\n",
    "    if just_prepare_box_index:\n",
    "        return qc.to_instruction()\n",
    "    # 2. Transform this into a superposition of possible starting points\n",
    "    qc.append(circ_index_to_start(), [*unary_index, *x_start, *y_start, *t_start])\n",
    "    # 3. Transform this into a superposition of offsets\n",
    "    qc.append(circ_index_to_offset(), [*unary_index, *x_offset, *y_offset, *t_offset])\n",
    "    # 4. Add the starting points to the offsets, arriving at a superposition of points\n",
    "    qc.append(circ_sample_box(), [\n",
    "        *x_start, *x_offset,\n",
    "        *y_start, *y_offset,\n",
    "        *t_start, *t_offset,\n",
    "        *addition_help,\n",
    "    ])\n",
    "    # Return the circuit as an instruction\n",
    "    return qc.to_instruction()\n",
    "\n",
    "qubits_per_main_once_run = circ_main_once().num_qubits\n",
    "print(f\"Requires {qubits_per_main_once_run} qubits for each parallel run.\")\n",
    "\n",
    "def qc_main():\n",
    "    just_prepare_box_index = False\n",
    "    main_once_fst = circ_main_once(just_prepare_box_index=just_prepare_box_index)\n",
    "    main_once_snd = circ_main_once(just_prepare_box_index=just_prepare_box_index)\n",
    "    q_fst = QReg(qubits_per_main_once_run)\n",
    "    q_snd = QReg(qubits_per_main_once_run)\n",
    "    if just_prepare_box_index:\n",
    "        fst_unary_out = CReg(n_boxes, name=\"fst_unary_out\")\n",
    "        snd_unary_out = CReg(n_boxes, name=\"snd_unary_out\")\n",
    "        qc = QuantumCircuit(\n",
    "            q_fst, q_snd,\n",
    "            fst_unary_out, snd_unary_out,\n",
    "            name=\"main\",\n",
    "        )\n",
    "    else:\n",
    "        fst_x_out                   = CReg(bits_x, name=\"fst_x_out\")\n",
    "        fst_y_out                   = CReg(bits_y, name=\"fst_y_out\")\n",
    "        fst_t_out                   = CReg(bits_t, name=\"fst_t_out\")\n",
    "        snd_x_out                   = CReg(bits_x, name=\"snd_x_out\")\n",
    "        snd_y_out                   = CReg(bits_y, name=\"snd_y_out\")\n",
    "        snd_t_out                   = CReg(bits_t, name=\"snd_t_out\")\n",
    "        qc = QuantumCircuit(\n",
    "            q_fst, q_snd,\n",
    "            fst_x_out, fst_y_out, fst_t_out,\n",
    "            snd_x_out, snd_y_out, snd_t_out,\n",
    "            name=\"main\",\n",
    "        )\n",
    "    qc.append(main_once_fst, q_fst)\n",
    "    qc.append(main_once_snd, q_snd)\n",
    "    if just_prepare_box_index:\n",
    "        qc.measure(q_fst[log2_n_boxes:(log2_n_boxes+n_boxes)], fst_unary_out)\n",
    "        qc.measure(q_snd[log2_n_boxes:(log2_n_boxes+n_boxes)], snd_unary_out)\n",
    "    else:\n",
    "        xyt_offset = log2_n_boxes + n_boxes + n_shifts + n_shifts\n",
    "        cursor = xyt_offset\n",
    "        cursor += bits_x\n",
    "        qc.measure(q_fst[cursor:(cursor := cursor + bits_x)], fst_x_out)\n",
    "        cursor += bits_y\n",
    "        qc.measure(q_fst[cursor:(cursor := cursor + bits_y)], fst_y_out)\n",
    "        cursor += bits_t\n",
    "        qc.measure(q_fst[cursor:(cursor := cursor + bits_t)], fst_t_out)\n",
    "        cursor += 3\n",
    "        assert cursor == qubits_per_main_once_run\n",
    "        cursor = xyt_offset\n",
    "        cursor += bits_x\n",
    "        qc.measure(q_snd[cursor:(cursor := cursor + bits_x)], snd_x_out)\n",
    "        cursor += bits_y\n",
    "        qc.measure(q_snd[cursor:(cursor := cursor + bits_y)], snd_y_out)\n",
    "        cursor += bits_t\n",
    "        qc.measure(q_snd[cursor:(cursor := cursor + bits_t)], snd_t_out)\n",
    "        cursor += 3\n",
    "        assert cursor == qubits_per_main_once_run\n",
    "    return qc"
   ]
  },
  {
   "cell_type": "code",
   "execution_count": 57,
   "id": "c6d53376-1eeb-41d7-ab90-674f267d06c2",
   "metadata": {
    "tags": []
   },
   "outputs": [
    {
     "data": {
      "text/plain": [
       "<qiskit.circuit.quantumcircuit.QuantumCircuit at 0x7f528c47aec0>"
      ]
     },
     "execution_count": 57,
     "metadata": {},
     "output_type": "execute_result"
    }
   ],
   "source": [
    "main = qc_main()\n",
    "main"
   ]
  },
  {
   "cell_type": "code",
   "execution_count": 58,
   "id": "a83a60c4-dd83-40fa-b8a6-0d0809b84934",
   "metadata": {
    "tags": []
   },
   "outputs": [],
   "source": [
    "#main.decompose().decompose().draw()"
   ]
  },
  {
   "cell_type": "code",
   "execution_count": 59,
   "id": "9056a35c-875f-46bb-a9e3-2b1cf6d08fbe",
   "metadata": {
    "tags": []
   },
   "outputs": [],
   "source": [
    "n_shots = 2048\n",
    "simulation_result = simulate_quantum_circuit(main, shots=n_shots)"
   ]
  },
  {
   "cell_type": "code",
   "execution_count": 61,
   "id": "5bdded4e-135d-4e0e-98ff-03bdea3ec220",
   "metadata": {
    "tags": []
   },
   "outputs": [
    {
     "name": "stdout",
     "output_type": "stream",
     "text": [
      "100.000% OK\n"
     ]
    }
   ],
   "source": [
    "def binstr2dec(s: str):\n",
    "    # Yes, this is a mind-bogglingy stupid way to do this\n",
    "    # And an unsafe one at that\n",
    "    # Hopelessly inefficient too\n",
    "    # Unfortunately it's 11 P.M. and I don't care\n",
    "    return eval(f'0b{s}')\n",
    "\n",
    "def get_coords_from_result(result_keys: list[str]) -> (list[int], list[int], list[int]):\n",
    "    # Currently this only uses fst\n",
    "    xs, ys, ts = [], [], []\n",
    "    for key in result_keys:\n",
    "        _, _, _, t_rev, y_rev, x_rev = key.split()\n",
    "        xs.append(binstr2dec(x_rev))\n",
    "        ys.append(binstr2dec(y_rev))\n",
    "        ts.append(binstr2dec(t_rev))\n",
    "    return xs, ys, ts\n",
    "\n",
    "result = simulation_result\n",
    "proportion_noise_threshold = 0.05\n",
    "coords = get_coords_from_result(result.keys())\n",
    "good, total = 0, 0\n",
    "for i in zip(*coords):\n",
    "    ok = box_union_contains_point(boxes, i)\n",
    "    good += 1 if ok else 0\n",
    "    total += 1\n",
    "print(f'{(good/total)*100:.3f}% OK')"
   ]
  },
  {
   "cell_type": "code",
   "execution_count": 64,
   "id": "2413b816-6cb1-49dc-8436-a62bc3bf1bc4",
   "metadata": {
    "tags": []
   },
   "outputs": [
    {
     "data": {
      "image/png": "[encoded data removed]",
      "text/plain": [
       "<Figure size 640x480 with 1 Axes>"
      ]
     },
     "metadata": {},
     "output_type": "display_data"
    }
   ],
   "source": [
    "xy_by_time  = [ ([], []) for _ in range(1 << bits_t) ]\n",
    "for x, y, t in zip(*coords):\n",
    "    xy_by_time[t][0].append(x)\n",
    "    xy_by_time[t][1].append(y)\n",
    "fig, ax = plt.subplots()\n",
    "ax.set_xlim(0, 1 << bits_x)\n",
    "ax.set_ylim(0, 1 << bits_y)\n",
    "scatter = ax.scatter(*xy_by_time[0])\n",
    "def scatter_ani_draw(frame):\n",
    "    arr = np.vstack([\n",
    "        np.array(xy_by_time[frame][0]),\n",
    "        np.array(xy_by_time[frame][1])\n",
    "    ]).T\n",
    "    if arr.size > 0:\n",
    "        scatter.set_offsets(arr)\n",
    "    else:\n",
    "        scatter.set_offsets(np.array([0, 0]))\n",
    "    return (scatter,)\n",
    "scatter_ani = mpl_animation.FuncAnimation(fig, scatter_ani_draw, frames=(1 << bits_t), interval=10, blit=True)\n",
    "scatter_ani.save(\"output.gif\", writer=\"pillow\")"
   ]
  }
 ],
 "metadata": {
  "kernelspec": {
   "display_name": "Python 3 (ipykernel)",
   "language": "python",
   "name": "python3"
  },
  "language_info": {
   "codemirror_mode": {
    "name": "ipython",
    "version": 3
   },
   "file_extension": ".py",
   "mimetype": "text/x-python",
   "name": "python",
   "nbconvert_exporter": "python",
   "pygments_lexer": "ipython3",
   "version": "3.10.8"
  },
  "widgets": {
   "application/vnd.jupyter.widget-state+json": {
    "state": {
     "03899ceb33a74d1aa85c4d854d066407": {
      "model_module": "@jupyter-widgets/controls",
      "model_module_version": "2.0.0",
      "model_name": "ButtonStyleModel",
      "state": {
       "font_family": null,
       "font_size": null,
       "font_style": null,
       "font_variant": null,
       "font_weight": null,
       "text_color": null,
       "text_decoration": null
      }
     },
     "0613b494d7144ae8bc5f7850c92c4176": {
      "model_module": "@jupyter-widgets/controls",
      "model_module_version": "2.0.0",
      "model_name": "HBoxModel",
      "state": {
       "children": [
        "IPY_MODEL_06a3bf76c1724dc5be85c10eadc7bcee",
        "IPY_MODEL_4518c9e3b1e944dbb089f987c906f53d",
        "IPY_MODEL_630edc0d26b840a0b3c502733f79f8d1",
        "IPY_MODEL_755444434e804be49b759405a3f1e765",
        "IPY_MODEL_a00b3f4ea2ce406099c2580176d01ea3"
       ],
       "layout": "IPY_MODEL_959a8f03bccf42389d866a8131d72b04"
      }
     },
     "0639d3268b58488a92da7e5789948fd1": {
      "model_module": "@jupyter-widgets/base",
      "model_module_version": "2.0.0",
      "model_name": "LayoutModel",
      "state": {}
     },
     "06a3bf76c1724dc5be85c10eadc7bcee": {
      "model_module": "@jupyter-widgets/controls",
      "model_module_version": "2.0.0",
      "model_name": "HTMLModel",
      "state": {
       "layout": "IPY_MODEL_2b7398b827e64fefaf700db1f92225de",
       "style": "IPY_MODEL_d4481fac393345b4924cfc09c526076a",
       "value": "<h5>Job ID</h5>"
      }
     },
     "06b88d9509cf4dcdba28034b0aeee03f": {
      "model_module": "@jupyter-widgets/base",
      "model_module_version": "2.0.0",
      "model_name": "LayoutModel",
      "state": {}
     },
     "07bbb2a704d647adb6afe7bb45081df3": {
      "model_module": "jupyter-matplotlib",
      "model_module_version": "^0.11",
      "model_name": "ToolbarModel",
      "state": {
       "_model_module_version": "^0.11",
       "_view_module_version": "^0.11",
       "collapsed": true,
       "layout": "IPY_MODEL_082f1e50e04d453ba3d81ed34a2d7542",
       "orientation": "vertical",
       "toolitems": [
        [
         "Home",
         "Reset original view",
         "home",
         "home"
        ],
        [
         "Back",
         "Back to previous view",
         "arrow-left",
         "back"
        ],
        [
         "Forward",
         "Forward to next view",
         "arrow-right",
         "forward"
        ],
        [
         "Pan",
         "Left button pans, Right button zooms\nx/y fixes axis, CTRL fixes aspect",
         "arrows",
         "pan"
        ],
        [
         "Zoom",
         "Zoom to rectangle\nx/y fixes axis",
         "square-o",
         "zoom"
        ],
        [
         "Download",
         "Download plot",
         "floppy-o",
         "save_figure"
        ]
       ]
      }
     },
     "082f1e50e04d453ba3d81ed34a2d7542": {
      "model_module": "@jupyter-widgets/base",
      "model_module_version": "2.0.0",
      "model_name": "LayoutModel",
      "state": {}
     },
     "149096ea420a4b06a0f37bc26bd7f80f": {
      "model_module": "@jupyter-widgets/base",
      "model_module_version": "2.0.0",
      "model_name": "LayoutModel",
      "state": {
       "grid_area": "right",
       "padding": "0px 0px 0px 0px",
       "width": "70px"
      }
     },
     "2013062e68c84d9db18e73319b046f02": {
      "model_module": "jupyter-matplotlib",
      "model_module_version": "^0.11",
      "model_name": "MPLCanvasModel",
      "state": {
       "_cursor": "default",
       "_data_url": "data:image/png;base64,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",
       "_figure_label": "Figure 6",
       "_model_module_version": "^0.11",
       "_size": [
        640,
        480
       ],
       "_view_module_version": "^0.11",
       "layout": "IPY_MODEL_f0c8df109dd84cfca8c25bc2bf365840",
       "toolbar": "IPY_MODEL_6fce6551fc12405e8f50696f5057e183",
       "toolbar_position": "left"
      }
     },
     "2b7398b827e64fefaf700db1f92225de": {
      "model_module": "@jupyter-widgets/base",
      "model_module_version": "2.0.0",
      "model_name": "LayoutModel",
      "state": {
       "width": "190px"
      }
     },
     "2dd1d1bd8b594174a61cff121b081152": {
      "model_module": "@jupyter-widgets/controls",
      "model_module_version": "2.0.0",
      "model_name": "HTMLModel",
      "state": {
       "layout": "IPY_MODEL_737c5fd66c714239a561b8320c773b28",
       "style": "IPY_MODEL_80eaadd3169f4e9f8a4133ad7bbc0a82",
       "value": "<p style='font-family: IBM Plex Sans, Arial, Helvetica, sans-serif; font-size: 20px; font-weight: medium;'>Circuit Properties</p>"
      }
     },
     "34a5a54406d64ef7b0f2ac6c2738e940": {
      "model_module": "@jupyter-widgets/base",
      "model_module_version": "2.0.0",
      "model_name": "LayoutModel",
      "state": {}
     },
     "3d28b2545e0349458b240d56e185926a": {
      "model_module": "@jupyter-widgets/base",
      "model_module_version": "2.0.0",
      "model_name": "LayoutModel",
      "state": {}
     },
     "3e3fec926c03436aaced792ed55f7825": {
      "model_module": "@jupyter-widgets/controls",
      "model_module_version": "2.0.0",
      "model_name": "HTMLStyleModel",
      "state": {
       "description_width": "",
       "font_size": null,
       "text_color": null
      }
     },
     "3fc4dd915f51488985035b3696b5da5a": {
      "model_module": "@jupyter-widgets/base",
      "model_module_version": "2.0.0",
      "model_name": "LayoutModel",
      "state": {}
     },
     "4518c9e3b1e944dbb089f987c906f53d": {
      "model_module": "@jupyter-widgets/controls",
      "model_module_version": "2.0.0",
      "model_name": "HTMLModel",
      "state": {
       "layout": "IPY_MODEL_4fec1ab973db4f0cadeba19a8a030b10",
       "style": "IPY_MODEL_c0f45ca0eb2c456c9b5504e8759bd437",
       "value": "<h5>Backend</h5>"
      }
     },
     "465eaef11ae244409ee5f7229314b4f5": {
      "model_module": "@jupyter-widgets/controls",
      "model_module_version": "2.0.0",
      "model_name": "HTMLStyleModel",
      "state": {
       "description_width": "",
       "font_size": null,
       "text_color": null
      }
     },
     "4962e0dc50764ab2b5bd18c3ed3b2511": {
      "model_module": "@jupyter-widgets/controls",
      "model_module_version": "2.0.0",
      "model_name": "ButtonModel",
      "state": {
       "button_style": "primary",
       "description": "Clear",
       "layout": "IPY_MODEL_149096ea420a4b06a0f37bc26bd7f80f",
       "style": "IPY_MODEL_03899ceb33a74d1aa85c4d854d066407",
       "tooltip": null
      }
     },
     "4ab35ee5de6541b49cacf9d9adfebfc5": {
      "model_module": "@jupyter-widgets/base",
      "model_module_version": "2.0.0",
      "model_name": "LayoutModel",
      "state": {
       "width": "95px"
      }
     },
     "4be32c88f4424cad96d5191e37aa04ef": {
      "model_module": "jupyter-matplotlib",
      "model_module_version": "^0.11",
      "model_name": "MPLCanvasModel",
      "state": {
       "_cursor": "default",
       "_data_url": "data:image/png;base64,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",
       "_figure_label": "Figure 6",
       "_model_module_version": "^0.11",
       "_size": [
        640,
        480
       ],
       "_view_module_version": "^0.11",
       "layout": "IPY_MODEL_5c63b8d830874c58a28b69f79fd0f080",
       "toolbar": "IPY_MODEL_f921f50c61f0455baff12b790b18d936",
       "toolbar_position": "left"
      }
     },
     "4f3ef347cfd04cd5bdb390c7e052f622": {
      "model_module": "@jupyter-widgets/base",
      "model_module_version": "2.0.0",
      "model_name": "LayoutModel",
      "state": {}
     },
     "4fec1ab973db4f0cadeba19a8a030b10": {
      "model_module": "@jupyter-widgets/base",
      "model_module_version": "2.0.0",
      "model_name": "LayoutModel",
      "state": {
       "width": "145px"
      }
     },
     "50c68564e99841c4b502aadfdc62cd77": {
      "model_module": "jupyter-matplotlib",
      "model_module_version": "^0.11",
      "model_name": "ToolbarModel",
      "state": {
       "_model_module_version": "^0.11",
       "_view_module_version": "^0.11",
       "collapsed": true,
       "layout": "IPY_MODEL_ed690f85813e4f1f9f4cebdcfb716ec7",
       "orientation": "vertical",
       "toolitems": [
        [
         "Home",
         "Reset original view",
         "home",
         "home"
        ],
        [
         "Back",
         "Back to previous view",
         "arrow-left",
         "back"
        ],
        [
         "Forward",
         "Forward to next view",
         "arrow-right",
         "forward"
        ],
        [
         "Pan",
         "Left button pans, Right button zooms\nx/y fixes axis, CTRL fixes aspect",
         "arrows",
         "pan"
        ],
        [
         "Zoom",
         "Zoom to rectangle\nx/y fixes axis",
         "square-o",
         "zoom"
        ],
        [
         "Download",
         "Download plot",
         "floppy-o",
         "save_figure"
        ]
       ]
      }
     },
     "58c0d0100b444a72b1099cfe87f4eb3e": {
      "model_module": "@jupyter-widgets/base",
      "model_module_version": "2.0.0",
      "model_name": "LayoutModel",
      "state": {
       "grid_template_areas": "\n                                       \". . . . right \"\n                                        ",
       "grid_template_columns": "20% 20% 20% 20% 20%",
       "width": "100%"
      }
     },
     "5bf8c590c72c47b48b6c1f2bc4f3a9b4": {
      "model_module": "jupyter-matplotlib",
      "model_module_version": "^0.11",
      "model_name": "MPLCanvasModel",
      "state": {
       "_cursor": "default",
       "_data_url": "data:image/png;base64,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",
       "_figure_label": "Figure 6",
       "_model_module_version": "^0.11",
       "_size": [
        640,
        480
       ],
       "_view_module_version": "^0.11",
       "layout": "IPY_MODEL_3d28b2545e0349458b240d56e185926a",
       "toolbar": "IPY_MODEL_f14a799ea9f147238c857705888eb946",
       "toolbar_position": "left"
      }
     },
     "5c63b8d830874c58a28b69f79fd0f080": {
      "model_module": "@jupyter-widgets/base",
      "model_module_version": "2.0.0",
      "model_name": "LayoutModel",
      "state": {}
     },
     "5e5f3e964efa4973b16f10ddaed28a48": {
      "model_module": "jupyter-matplotlib",
      "model_module_version": "^0.11",
      "model_name": "ToolbarModel",
      "state": {
       "_model_module_version": "^0.11",
       "_view_module_version": "^0.11",
       "collapsed": true,
       "layout": "IPY_MODEL_aaef7bbb90d54ff188de385c6532567e",
       "orientation": "vertical",
       "toolitems": [
        [
         "Home",
         "Reset original view",
         "home",
         "home"
        ],
        [
         "Back",
         "Back to previous view",
         "arrow-left",
         "back"
        ],
        [
         "Forward",
         "Forward to next view",
         "arrow-right",
         "forward"
        ],
        [
         "Pan",
         "Left button pans, Right button zooms\nx/y fixes axis, CTRL fixes aspect",
         "arrows",
         "pan"
        ],
        [
         "Zoom",
         "Zoom to rectangle\nx/y fixes axis",
         "square-o",
         "zoom"
        ],
        [
         "Download",
         "Download plot",
         "floppy-o",
         "save_figure"
        ]
       ]
      }
     },
     "630edc0d26b840a0b3c502733f79f8d1": {
      "model_module": "@jupyter-widgets/controls",
      "model_module_version": "2.0.0",
      "model_name": "HTMLModel",
      "state": {
       "layout": "IPY_MODEL_4ab35ee5de6541b49cacf9d9adfebfc5",
       "style": "IPY_MODEL_465eaef11ae244409ee5f7229314b4f5",
       "value": "<h5>Status</h5>"
      }
     },
     "654726e794a14298ab277c1bb0e47748": {
      "model_module": "jupyter-matplotlib",
      "model_module_version": "^0.11",
      "model_name": "MPLCanvasModel",
      "state": {
       "_cursor": "default",
       "_data_url": "data:image/png;base64,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",
       "_figure_label": "Figure 6",
       "_message": "x=7.10 y=28.64",
       "_model_module_version": "^0.11",
       "_size": [
        640,
        480
       ],
       "_view_module_version": "^0.11",
       "layout": "IPY_MODEL_f5dccb4d9e91405d9b27c75c47c127f3",
       "toolbar": "IPY_MODEL_9cd9b5d9169f493facb02c379e3cda0c",
       "toolbar_position": "left"
      }
     },
     "65e8a26384e743a49a82313b0645460d": {
      "model_module": "jupyter-matplotlib",
      "model_module_version": "^0.11",
      "model_name": "ToolbarModel",
      "state": {
       "_model_module_version": "^0.11",
       "_view_module_version": "^0.11",
       "collapsed": true,
       "layout": "IPY_MODEL_66704c337e634e5f9085020e21e3abf8",
       "orientation": "vertical",
       "toolitems": [
        [
         "Home",
         "Reset original view",
         "home",
         "home"
        ],
        [
         "Back",
         "Back to previous view",
         "arrow-left",
         "back"
        ],
        [
         "Forward",
         "Forward to next view",
         "arrow-right",
         "forward"
        ],
        [
         "Pan",
         "Left button pans, Right button zooms\nx/y fixes axis, CTRL fixes aspect",
         "arrows",
         "pan"
        ],
        [
         "Zoom",
         "Zoom to rectangle\nx/y fixes axis",
         "square-o",
         "zoom"
        ],
        [
         "Download",
         "Download plot",
         "floppy-o",
         "save_figure"
        ]
       ]
      }
     },
     "66704c337e634e5f9085020e21e3abf8": {
      "model_module": "@jupyter-widgets/base",
      "model_module_version": "2.0.0",
      "model_name": "LayoutModel",
      "state": {}
     },
     "6a824025f3c840a0a58b3058039b80b4": {
      "model_module": "jupyter-matplotlib",
      "model_module_version": "^0.11",
      "model_name": "ToolbarModel",
      "state": {
       "_model_module_version": "^0.11",
       "_view_module_version": "^0.11",
       "collapsed": true,
       "layout": "IPY_MODEL_88466591779d43c6aa4792145212b05f",
       "orientation": "vertical",
       "toolitems": [
        [
         "Home",
         "Reset original view",
         "home",
         "home"
        ],
        [
         "Back",
         "Back to previous view",
         "arrow-left",
         "back"
        ],
        [
         "Forward",
         "Forward to next view",
         "arrow-right",
         "forward"
        ],
        [
         "Pan",
         "Left button pans, Right button zooms\nx/y fixes axis, CTRL fixes aspect",
         "arrows",
         "pan"
        ],
        [
         "Zoom",
         "Zoom to rectangle\nx/y fixes axis",
         "square-o",
         "zoom"
        ],
        [
         "Download",
         "Download plot",
         "floppy-o",
         "save_figure"
        ]
       ]
      }
     },
     "6fce6551fc12405e8f50696f5057e183": {
      "model_module": "jupyter-matplotlib",
      "model_module_version": "^0.11",
      "model_name": "ToolbarModel",
      "state": {
       "_model_module_version": "^0.11",
       "_view_module_version": "^0.11",
       "collapsed": true,
       "layout": "IPY_MODEL_c8e0229e6eea48a591ad0f429ca4c481",
       "orientation": "vertical",
       "toolitems": [
        [
         "Home",
         "Reset original view",
         "home",
         "home"
        ],
        [
         "Back",
         "Back to previous view",
         "arrow-left",
         "back"
        ],
        [
         "Forward",
         "Forward to next view",
         "arrow-right",
         "forward"
        ],
        [
         "Pan",
         "Left button pans, Right button zooms\nx/y fixes axis, CTRL fixes aspect",
         "arrows",
         "pan"
        ],
        [
         "Zoom",
         "Zoom to rectangle\nx/y fixes axis",
         "square-o",
         "zoom"
        ],
        [
         "Download",
         "Download plot",
         "floppy-o",
         "save_figure"
        ]
       ]
      }
     },
     "720a33a043094d33918cd8af0c214033": {
      "model_module": "jupyter-matplotlib",
      "model_module_version": "^0.11",
      "model_name": "MPLCanvasModel",
      "state": {
       "_cursor": "default",
       "_data_url": "data:image/png;base64,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",
       "_figure_label": "Figure 6",
       "_model_module_version": "^0.11",
       "_size": [
        640,
        480
       ],
       "_view_module_version": "^0.11",
       "layout": "IPY_MODEL_937ef89e9bf548beb806149a0bba3fb6",
       "toolbar": "IPY_MODEL_6a824025f3c840a0a58b3058039b80b4",
       "toolbar_position": "left"
      }
     },
     "737c5fd66c714239a561b8320c773b28": {
      "model_module": "@jupyter-widgets/base",
      "model_module_version": "2.0.0",
      "model_name": "LayoutModel",
      "state": {
       "margin": "0px 0px 10px 0px"
      }
     },
     "755444434e804be49b759405a3f1e765": {
      "model_module": "@jupyter-widgets/controls",
      "model_module_version": "2.0.0",
      "model_name": "HTMLModel",
      "state": {
       "layout": "IPY_MODEL_79031df5a87b4b9cb2e8bb2d87c09a02",
       "style": "IPY_MODEL_3e3fec926c03436aaced792ed55f7825",
       "value": "<h5>Queue</h5>"
      }
     },
     "79031df5a87b4b9cb2e8bb2d87c09a02": {
      "model_module": "@jupyter-widgets/base",
      "model_module_version": "2.0.0",
      "model_name": "LayoutModel",
      "state": {
       "width": "70px"
      }
     },
     "79051385e6b54d4d92bab3c04fe861e4": {
      "model_module": "jupyter-matplotlib",
      "model_module_version": "^0.11",
      "model_name": "ToolbarModel",
      "state": {
       "_model_module_version": "^0.11",
       "_view_module_version": "^0.11",
       "collapsed": true,
       "layout": "IPY_MODEL_e082cbd239ce4209bbf1d6274f900802",
       "orientation": "vertical",
       "toolitems": [
        [
         "Home",
         "Reset original view",
         "home",
         "home"
        ],
        [
         "Back",
         "Back to previous view",
         "arrow-left",
         "back"
        ],
        [
         "Forward",
         "Forward to next view",
         "arrow-right",
         "forward"
        ],
        [
         "Pan",
         "Left button pans, Right button zooms\nx/y fixes axis, CTRL fixes aspect",
         "arrows",
         "pan"
        ],
        [
         "Zoom",
         "Zoom to rectangle\nx/y fixes axis",
         "square-o",
         "zoom"
        ],
        [
         "Download",
         "Download plot",
         "floppy-o",
         "save_figure"
        ]
       ]
      }
     },
     "80eaadd3169f4e9f8a4133ad7bbc0a82": {
      "model_module": "@jupyter-widgets/controls",
      "model_module_version": "2.0.0",
      "model_name": "HTMLStyleModel",
      "state": {
       "description_width": "",
       "font_size": null,
       "text_color": null
      }
     },
     "88466591779d43c6aa4792145212b05f": {
      "model_module": "@jupyter-widgets/base",
      "model_module_version": "2.0.0",
      "model_name": "LayoutModel",
      "state": {}
     },
     "937ef89e9bf548beb806149a0bba3fb6": {
      "model_module": "@jupyter-widgets/base",
      "model_module_version": "2.0.0",
      "model_name": "LayoutModel",
      "state": {}
     },
     "93a5d95de4fd4ab8b32ef88b190dd4c0": {
      "model_module": "@jupyter-widgets/base",
      "model_module_version": "2.0.0",
      "model_name": "LayoutModel",
      "state": {}
     },
     "959a8f03bccf42389d866a8131d72b04": {
      "model_module": "@jupyter-widgets/base",
      "model_module_version": "2.0.0",
      "model_name": "LayoutModel",
      "state": {
       "margin": "0px 0px 0px 37px",
       "width": "600px"
      }
     },
     "9cd9b5d9169f493facb02c379e3cda0c": {
      "model_module": "jupyter-matplotlib",
      "model_module_version": "^0.11",
      "model_name": "ToolbarModel",
      "state": {
       "_model_module_version": "^0.11",
       "_view_module_version": "^0.11",
       "collapsed": true,
       "layout": "IPY_MODEL_3fc4dd915f51488985035b3696b5da5a",
       "orientation": "vertical",
       "toolitems": [
        [
         "Home",
         "Reset original view",
         "home",
         "home"
        ],
        [
         "Back",
         "Back to previous view",
         "arrow-left",
         "back"
        ],
        [
         "Forward",
         "Forward to next view",
         "arrow-right",
         "forward"
        ],
        [
         "Pan",
         "Left button pans, Right button zooms\nx/y fixes axis, CTRL fixes aspect",
         "arrows",
         "pan"
        ],
        [
         "Zoom",
         "Zoom to rectangle\nx/y fixes axis",
         "square-o",
         "zoom"
        ],
        [
         "Download",
         "Download plot",
         "floppy-o",
         "save_figure"
        ]
       ]
      }
     },
     "a00b3f4ea2ce406099c2580176d01ea3": {
      "model_module": "@jupyter-widgets/controls",
      "model_module_version": "2.0.0",
      "model_name": "HTMLModel",
      "state": {
       "layout": "IPY_MODEL_bedc8c2ca5434a2984f98f1bbd946eaf",
       "style": "IPY_MODEL_d26f4dc0501049bf92b7a7118cbffa97",
       "value": "<h5>Message</h5>"
      }
     },
     "a301039aaea54400a12120c513e381d8": {
      "model_module": "@jupyter-widgets/base",
      "model_module_version": "2.0.0",
      "model_name": "LayoutModel",
      "state": {}
     },
     "aaef7bbb90d54ff188de385c6532567e": {
      "model_module": "@jupyter-widgets/base",
      "model_module_version": "2.0.0",
      "model_name": "LayoutModel",
      "state": {}
     },
     "ac54310324354bee988d39cc1f7d13f0": {
      "model_module": "jupyter-matplotlib",
      "model_module_version": "^0.11",
      "model_name": "MPLCanvasModel",
      "state": {
       "_cursor": "default",
       "_data_url": "data:image/png;base64,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",
       "_figure_label": "Figure 6",
       "_model_module_version": "^0.11",
       "_size": [
        640,
        480
       ],
       "_view_module_version": "^0.11",
       "layout": "IPY_MODEL_06b88d9509cf4dcdba28034b0aeee03f",
       "toolbar": "IPY_MODEL_50c68564e99841c4b502aadfdc62cd77",
       "toolbar_position": "left"
      }
     },
     "b7df948e6c8a4a42bdb732807e731eee": {
      "model_module": "@jupyter-widgets/base",
      "model_module_version": "2.0.0",
      "model_name": "LayoutModel",
      "state": {}
     },
     "bb124d80bd544ac8bf7a4fa96b435300": {
      "model_module": "@jupyter-widgets/base",
      "model_module_version": "2.0.0",
      "model_name": "LayoutModel",
      "state": {}
     },
     "bedc8c2ca5434a2984f98f1bbd946eaf": {
      "model_module": "@jupyter-widgets/base",
      "model_module_version": "2.0.0",
      "model_name": "LayoutModel",
      "state": {}
     },
     "c0f45ca0eb2c456c9b5504e8759bd437": {
      "model_module": "@jupyter-widgets/controls",
      "model_module_version": "2.0.0",
      "model_name": "HTMLStyleModel",
      "state": {
       "description_width": "",
       "font_size": null,
       "text_color": null
      }
     },
     "c68fff3467244a2a9d0f6afdd229810e": {
      "model_module": "@jupyter-widgets/base",
      "model_module_version": "2.0.0",
      "model_name": "LayoutModel",
      "state": {}
     },
     "c8e0229e6eea48a591ad0f429ca4c481": {
      "model_module": "@jupyter-widgets/base",
      "model_module_version": "2.0.0",
      "model_name": "LayoutModel",
      "state": {}
     },
     "d26f4dc0501049bf92b7a7118cbffa97": {
      "model_module": "@jupyter-widgets/controls",
      "model_module_version": "2.0.0",
      "model_name": "HTMLStyleModel",
      "state": {
       "description_width": "",
       "font_size": null,
       "text_color": null
      }
     },
     "d4481fac393345b4924cfc09c526076a": {
      "model_module": "@jupyter-widgets/controls",
      "model_module_version": "2.0.0",
      "model_name": "HTMLStyleModel",
      "state": {
       "description_width": "",
       "font_size": null,
       "text_color": null
      }
     },
     "e082cbd239ce4209bbf1d6274f900802": {
      "model_module": "@jupyter-widgets/base",
      "model_module_version": "2.0.0",
      "model_name": "LayoutModel",
      "state": {}
     },
     "e4d463e38a6d4ccfb83227febc4889a5": {
      "model_module": "@jupyter-widgets/controls",
      "model_module_version": "2.0.0",
      "model_name": "GridBoxModel",
      "state": {
       "children": [
        "IPY_MODEL_4962e0dc50764ab2b5bd18c3ed3b2511"
       ],
       "layout": "IPY_MODEL_58c0d0100b444a72b1099cfe87f4eb3e"
      }
     },
     "ed690f85813e4f1f9f4cebdcfb716ec7": {
      "model_module": "@jupyter-widgets/base",
      "model_module_version": "2.0.0",
      "model_name": "LayoutModel",
      "state": {}
     },
     "f0c8df109dd84cfca8c25bc2bf365840": {
      "model_module": "@jupyter-widgets/base",
      "model_module_version": "2.0.0",
      "model_name": "LayoutModel",
      "state": {}
     },
     "f14a799ea9f147238c857705888eb946": {
      "model_module": "jupyter-matplotlib",
      "model_module_version": "^0.11",
      "model_name": "ToolbarModel",
      "state": {
       "_model_module_version": "^0.11",
       "_view_module_version": "^0.11",
       "collapsed": true,
       "layout": "IPY_MODEL_bb124d80bd544ac8bf7a4fa96b435300",
       "orientation": "vertical",
       "toolitems": [
        [
         "Home",
         "Reset original view",
         "home",
         "home"
        ],
        [
         "Back",
         "Back to previous view",
         "arrow-left",
         "back"
        ],
        [
         "Forward",
         "Forward to next view",
         "arrow-right",
         "forward"
        ],
        [
         "Pan",
         "Left button pans, Right button zooms\nx/y fixes axis, CTRL fixes aspect",
         "arrows",
         "pan"
        ],
        [
         "Zoom",
         "Zoom to rectangle\nx/y fixes axis",
         "square-o",
         "zoom"
        ],
        [
         "Download",
         "Download plot",
         "floppy-o",
         "save_figure"
        ]
       ]
      }
     },
     "f5dccb4d9e91405d9b27c75c47c127f3": {
      "model_module": "@jupyter-widgets/base",
      "model_module_version": "2.0.0",
      "model_name": "LayoutModel",
      "state": {}
     },
     "f632c18adad24038bef02f0feadd32c8": {
      "model_module": "jupyter-matplotlib",
      "model_module_version": "^0.11",
      "model_name": "ToolbarModel",
      "state": {
       "_model_module_version": "^0.11",
       "_view_module_version": "^0.11",
       "collapsed": true,
       "layout": "IPY_MODEL_93a5d95de4fd4ab8b32ef88b190dd4c0",
       "orientation": "vertical",
       "toolitems": [
        [
         "Home",
         "Reset original view",
         "home",
         "home"
        ],
        [
         "Back",
         "Back to previous view",
         "arrow-left",
         "back"
        ],
        [
         "Forward",
         "Forward to next view",
         "arrow-right",
         "forward"
        ],
        [
         "Pan",
         "Left button pans, Right button zooms\nx/y fixes axis, CTRL fixes aspect",
         "arrows",
         "pan"
        ],
        [
         "Zoom",
         "Zoom to rectangle\nx/y fixes axis",
         "square-o",
         "zoom"
        ],
        [
         "Download",
         "Download plot",
         "floppy-o",
         "save_figure"
        ]
       ]
      }
     },
     "f921f50c61f0455baff12b790b18d936": {
      "model_module": "jupyter-matplotlib",
      "model_module_version": "^0.11",
      "model_name": "ToolbarModel",
      "state": {
       "_model_module_version": "^0.11",
       "_view_module_version": "^0.11",
       "collapsed": true,
       "layout": "IPY_MODEL_b7df948e6c8a4a42bdb732807e731eee",
       "orientation": "vertical",
       "toolitems": [
        [
         "Home",
         "Reset original view",
         "home",
         "home"
        ],
        [
         "Back",
         "Back to previous view",
         "arrow-left",
         "back"
        ],
        [
         "Forward",
         "Forward to next view",
         "arrow-right",
         "forward"
        ],
        [
         "Pan",
         "Left button pans, Right button zooms\nx/y fixes axis, CTRL fixes aspect",
         "arrows",
         "pan"
        ],
        [
         "Zoom",
         "Zoom to rectangle\nx/y fixes axis",
         "square-o",
         "zoom"
        ],
        [
         "Download",
         "Download plot",
         "floppy-o",
         "save_figure"
        ]
       ]
      }
     }
    },
    "version_major": 2,
    "version_minor": 0
   }
  }
 },
 "nbformat": 4,
 "nbformat_minor": 5
}
